{
  "nbformat": 4,
  "nbformat_minor": 0,
  "metadata": {
    "colab": {
      "provenance": [],
      "include_colab_link": true
    },
    "kernelspec": {
      "name": "python3",
      "display_name": "Python 3"
    },
    "language_info": {
      "name": "python"
    }
  },
  "cells": [
    {
      "cell_type": "markdown",
      "metadata": {
        "id": "view-in-github",
        "colab_type": "text"
      },
      "source": [
        "<a href=\"https://colab.research.google.com/github/schilds29/PhysChem3/blob/main/workshop3-thermodynamicsB.ipynb\" target=\"_parent\"><img src=\"https://colab.research.google.com/assets/colab-badge.svg\" alt=\"Open In Colab\"/></a>"
      ]
    },
    {
      "cell_type": "markdown",
      "source": [
        "# B. Acid-Base Pairs\n",
        "Investigate the gas-phase acidity of __one__ other conjugate acid–base pairs from the list below (see Workshop Instructor for allocation of one of the acid-base pairs below) by calculating the standard Gibbs free energy for acid ionisation at 298.15 K.\n",
        "\n",
        "* formic acid\n",
        "* acetic acid\n",
        "* benzoic acid\n",
        "* phenol\n",
        "* methanol\n",
        "\n",
        "\n"
      ],
      "metadata": {
        "id": "jbfRH_Yr5ZiQ"
      }
    },
    {
      "cell_type": "markdown",
      "source": [
        "First we need to install the DFT codes (this will take a few minutes)"
      ],
      "metadata": {
        "id": "kDyU3_YJ7cBz"
      }
    },
    {
      "cell_type": "code",
      "source": [
        "!pip install -q condacolab"
      ],
      "metadata": {
        "id": "6GoP5nNMyqwD"
      },
      "execution_count": 1,
      "outputs": []
    },
    {
      "cell_type": "code",
      "source": [
        "import condacolab\n",
        "condacolab.install()"
      ],
      "metadata": {
        "id": "c_x8mzXIyuL4",
        "outputId": "7d6b94a5-f8da-447f-ba4b-b2d40a9d93a6",
        "colab": {
          "base_uri": "https://localhost:8080/"
        }
      },
      "execution_count": 1,
      "outputs": [
        {
          "output_type": "stream",
          "name": "stdout",
          "text": [
            "✨🍰✨ Everything looks OK!\n"
          ]
        }
      ]
    },
    {
      "cell_type": "code",
      "source": [
        "import subprocess\n",
        "import sys\n",
        "subprocess.run(\"rm -rf /usr/local/conda-meta/pinned\", shell=True)\n",
        "subprocess.run(\"pip -q install py3Dmol\", shell=True)\n",
        "subprocess.run(\"!mamba install -c anaconda intel-openmp\", shell=True)\n",
        "subprocess.run(\"conda config --add channels http://conda.anaconda.org/psi4\", shell=True)\n",
        "subprocess.run(\"mamba install psi4 resp -c conda-forge/label/libint_dev -c conda-forge\", shell=True)\n",
        "subprocess.run(\"pip install rdkit-pypi\", shell=True)\n",
        "subprocess.run(\"pip install Cython\", shell=True)\n",
        "subprocess.run(\"mamba install -c conda-forge parmed -y\", shell=True)\n",
        "subprocess.run(\"mamba install -c conda-forge openbabel -y\", shell=True)\n",
        "subprocess.run(\"pip install ase\", shell=True)"
      ],
      "metadata": {
        "id": "jqez19FQyu3r",
        "outputId": "ae85deeb-33f3-4279-a4bf-bef3ffd50162",
        "colab": {
          "base_uri": "https://localhost:8080/"
        }
      },
      "execution_count": 2,
      "outputs": [
        {
          "output_type": "execute_result",
          "data": {
            "text/plain": [
              "CompletedProcess(args='pip install ase', returncode=0)"
            ]
          },
          "metadata": {},
          "execution_count": 2
        }
      ]
    },
    {
      "cell_type": "markdown",
      "source": [
        "### Instructions\n",
        "Use the __ase.build.molecule__ routine to create models of the acids and delete one atom to create the congugate base."
      ],
      "metadata": {
        "id": "576ZNd9L58-Z"
      }
    },
    {
      "cell_type": "code",
      "source": [
        "from ase.build import molecule\n",
        "from ase import Atoms\n",
        "\n",
        "acid = molecule('HCOOH')\n",
        "print(acid.get_positions())\n",
        "print(acid.get_atomic_numbers())\n",
        "print(acid.get_chemical_formula())\n",
        "\n",
        "base = molecule('HCOOH')\n",
        "del base[3]\n",
        "base.set_initial_charges([-1,0,0,0])\n",
        "print(base.get_positions())\n",
        "print(base.get_atomic_numbers())\n",
        "print(base.get_chemical_formula())\n",
        "\n",
        "molecules = [acid, base]\n",
        "\n",
        "#code goes here\n",
        "\n"
      ],
      "metadata": {
        "id": "EV6bahWx2C5u",
        "outputId": "275d5974-92d4-4404-cea7-645814bb47a8",
        "colab": {
          "base_uri": "https://localhost:8080/"
        }
      },
      "execution_count": 9,
      "outputs": [
        {
          "output_type": "stream",
          "name": "stdout",
          "text": [
            "[[-1.040945 -0.436432  0.      ]\n",
            " [ 0.        0.423949  0.      ]\n",
            " [ 1.169372  0.103741  0.      ]\n",
            " [-0.64957  -1.335134  0.      ]\n",
            " [-0.377847  1.452967  0.      ]]\n",
            "[8 6 8 1 1]\n",
            "CH2O2\n",
            "[[-1.040945 -0.436432  0.      ]\n",
            " [ 0.        0.423949  0.      ]\n",
            " [ 1.169372  0.103741  0.      ]\n",
            " [-0.377847  1.452967  0.      ]]\n",
            "[8 6 8 1]\n",
            "CHO2\n"
          ]
        }
      ]
    },
    {
      "cell_type": "code",
      "source": [
        "#initalise dictionaries to save the results below\n",
        "acid_results = {}\n",
        "base_results = {}"
      ],
      "metadata": {
        "id": "4qtna34MVF6m"
      },
      "execution_count": 10,
      "outputs": []
    },
    {
      "cell_type": "markdown",
      "source": [
        "Optimise each of the molecules using Psi4 at the _B3LYP/3-21G_ level of theory *with* the BFGS optimiser to maximum force of <0.01 eV/Å."
      ],
      "metadata": {
        "id": "zevQETYJ8V3L"
      }
    },
    {
      "cell_type": "code",
      "source": [
        "from ase.calculators.psi4 import Psi4\n",
        "from ase.build import molecule\n",
        "import numpy as np\n",
        "from ase.optimize import QuasiNewton\n",
        "\n",
        "optimised_molecules = []\n",
        "for atoms in molecules:\n",
        "  print(atoms.get_chemical_formula())\n",
        "  calc = Psi4(atoms = atoms,\n",
        "        method = 'b3lyp',\n",
        "        memory = '1000MB', # this is the default, be aware!\n",
        "        basis = '3-21G',\n",
        "\n",
        "        charge = np.sum(atoms.get_initial_charges()),\n",
        "        multiplicity=1,\n",
        "        label = atoms.get_chemical_formula())\n",
        "\n",
        "  atoms.calc = calc\n",
        "\n",
        "  QuasiNewton(atoms).run(fmax=0.01)\n",
        "\n",
        "  #save results\n",
        "  if atoms.get_chemical_formula() == 'CH2O2':\n",
        "      acid_results['energy'] = atoms.get_potential_energy()\n",
        "  if atoms.get_chemical_formula() == 'CHO2':\n",
        "      base_results['energy'] = atoms.get_potential_energy()\n",
        "  print(atoms.get_potential_energy())\n",
        "  optimised_molecules.append(atoms)"
      ],
      "metadata": {
        "id": "Dk1bJt6fDJ7s",
        "outputId": "48a4b68d-92a5-4c44-9166-4a4798d39cdf",
        "colab": {
          "base_uri": "https://localhost:8080/"
        }
      },
      "execution_count": 11,
      "outputs": [
        {
          "output_type": "stream",
          "name": "stdout",
          "text": [
            "CH2O2\n",
            "                Step[ FC]     Time          Energy          fmax\n",
            "BFGSLineSearch:    0[  0] 05:45:48    -5134.677117       1.3015\n",
            "BFGSLineSearch:    1[  2] 05:45:59    -5134.700326       0.7495\n",
            "BFGSLineSearch:    2[  4] 05:46:15    -5134.705147       0.2425\n",
            "BFGSLineSearch:    3[  6] 05:46:26    -5134.708831       0.1681\n",
            "BFGSLineSearch:    4[  8] 05:46:37    -5134.711105       0.1733\n",
            "BFGSLineSearch:    5[ 10] 05:46:48    -5134.713045       0.0967\n",
            "BFGSLineSearch:    6[ 12] 05:46:59    -5134.713194       0.0234\n",
            "BFGSLineSearch:    7[ 13] 05:47:05    -5134.713234       0.0076\n",
            "-5134.7132339434565\n",
            "CHO2\n",
            "                Step[ FC]     Time          Energy          fmax\n",
            "BFGSLineSearch:    0[  0] 05:47:08    -5118.166967       7.2439\n",
            "BFGSLineSearch:    1[  2] 05:47:17    -5118.487391       1.8898\n",
            "BFGSLineSearch:    2[  4] 05:47:26    -5118.529922       0.9779\n",
            "BFGSLineSearch:    3[  6] 05:47:36    -5118.541681       0.3141\n",
            "BFGSLineSearch:    4[  8] 05:47:46    -5118.546872       0.1077\n",
            "BFGSLineSearch:    5[  9] 05:47:50    -5118.546951       0.0097\n",
            "-5118.5469505800165\n"
          ]
        }
      ]
    },
    {
      "cell_type": "markdown",
      "source": [
        "For each of the optimised molecules compute the vibrational and thermodynamic properties using _ase.vibrations_ and _ase.thermochemistry_ codes and save the results to the dictionaries _base\\_results_ and _acid\\_results_\n",
        "\n",
        "For example:\n",
        "```python\n",
        "from ase.build import molecule\n",
        "from ase.calculators.emt import EMT\n",
        "from ase.optimize import QuasiNewton\n",
        "from ase.vibrations import Vibrations\n",
        "from ase.thermochemistry import IdealGasThermo\n",
        "\n",
        "atoms = molecule('N2')\n",
        "atoms.calc = Psi4()\n",
        "potentialenergy = atoms.get_potential_energy()\n",
        "\n",
        "vib = Vibrations(atoms)\n",
        "vib.run()\n",
        "vib_energies = vib.get_energies()\n",
        "\n",
        "thermo = IdealGasThermo(vib_energies=vib_energies,\n",
        "                        potentialenergy=potentialenergy,\n",
        "                        atoms=atoms,\n",
        "                        geometry='linear',\n",
        "                        symmetrynumber=2, spin=0)\n",
        "G = thermo.get_gibbs_energy(temperature=298.15, pressure=101325.)\n",
        "```"
      ],
      "metadata": {
        "id": "8QOBYjqk-YSc"
      }
    },
    {
      "cell_type": "code",
      "source": [
        "print(optimised_molecules)"
      ],
      "metadata": {
        "id": "ZriCV3boUKk4",
        "outputId": "b42ef470-640f-4f0e-b058-684051d83d1e",
        "colab": {
          "base_uri": "https://localhost:8080/"
        }
      },
      "execution_count": 13,
      "outputs": [
        {
          "output_type": "stream",
          "name": "stdout",
          "text": [
            "[Atoms(symbols='OCOH2', pbc=False, calculator=Psi4(...)), Atoms(symbols='OCOH', pbc=False, initial_charges=..., calculator=Psi4(...))]\n"
          ]
        }
      ]
    },
    {
      "cell_type": "code",
      "source": [
        "from ase.build import molecule\n",
        "from ase.calculators.emt import EMT\n",
        "from ase.optimize import QuasiNewton\n",
        "from ase.vibrations import Vibrations\n",
        "from ase.thermochemistry import IdealGasThermo\n",
        "\n",
        "atoms = optimised_molecules[0]\n",
        "atoms.calc = Psi4()\n",
        "potentialenergy = atoms.get_potential_energy()\n",
        "\n",
        "vib = Vibrations(atoms)\n",
        "vib.run()\n",
        "vib_energies = vib.get_energies()\n",
        "\n",
        "thermo = IdealGasThermo(vib_energies=vib_energies,\n",
        "                        potentialenergy=potentialenergy,\n",
        "                        atoms=atoms,\n",
        "                        geometry='nonlinear',\n",
        "                        symmetrynumber=1, spin=1/2)\n",
        "G = thermo.get_gibbs_energy(temperature=298.15, pressure=101325.)\n",
        "H = thermo.get_enthalpy(temperature=298.15, verbose=False)\n",
        "S = thermo.get_entropy(temperature=298.15, pressure=101325., verbose=False)\n",
        "acid_results['gibbs_energy'] = G\n",
        "acid_results['enthalpy'] = H\n",
        "acid_results['entropy'] = S"
      ],
      "metadata": {
        "id": "RU_cynRlTmop",
        "outputId": "0d5b0d24-29f6-45e4-cb25-eebdb4c1e5be",
        "colab": {
          "base_uri": "https://localhost:8080/"
        }
      },
      "execution_count": 16,
      "outputs": [
        {
          "output_type": "stream",
          "name": "stdout",
          "text": [
            "Enthalpy components at T = 298.15 K:\n",
            "===============================\n",
            "E_pot              -5138.518 eV\n",
            "E_ZPE                  0.953 eV\n",
            "Cv_trans (0->T)        0.039 eV\n",
            "Cv_rot (0->T)          0.039 eV\n",
            "Cv_vib (0->T)          0.005 eV\n",
            "(C_v -> C_p)           0.026 eV\n",
            "-------------------------------\n",
            "H                  -5137.457 eV\n",
            "===============================\n",
            "\n",
            "Entropy components at T = 298.15 K and P = 101325.0 Pa:\n",
            "=================================================\n",
            "                           S               T*S\n",
            "S_trans (1 bar)    0.0016232 eV/K        0.484 eV\n",
            "S_rot              0.0009164 eV/K        0.273 eV\n",
            "S_elec             0.0000597 eV/K        0.018 eV\n",
            "S_vib              0.0000220 eV/K        0.007 eV\n",
            "S (1 bar -> P)    -0.0000011 eV/K       -0.000 eV\n",
            "-------------------------------------------------\n",
            "S                  0.0026202 eV/K        0.781 eV\n",
            "=================================================\n",
            "\n",
            "Free energy components at T = 298.15 K and P = 101325.0 Pa:\n",
            "=======================\n",
            "    H      -5137.457 eV\n",
            " -T*S         -0.781 eV\n",
            "-----------------------\n",
            "    G      -5138.238 eV\n",
            "=======================\n"
          ]
        }
      ]
    },
    {
      "cell_type": "code",
      "source": [
        "from ase.build import molecule\n",
        "from ase.calculators.emt import EMT\n",
        "from ase.optimize import QuasiNewton\n",
        "from ase.vibrations import Vibrations\n",
        "from ase.thermochemistry import IdealGasThermo\n",
        "import numpy as np\n",
        "\n",
        "atoms = optimised_molecules[1]\n",
        "atoms.calc = Psi4(charge = np.sum(atoms.get_initial_charges()), multiplicity=1)\n",
        "potentialenergy = atoms.get_potential_energy()\n",
        "\n",
        "vib = Vibrations(atoms)\n",
        "vib.run()\n",
        "vib_energies = vib.get_energies()\n",
        "\n",
        "thermo = IdealGasThermo(vib_energies=vib_energies,\n",
        "                        potentialenergy=potentialenergy,\n",
        "                        atoms=atoms,\n",
        "                        geometry='nonlinear',\n",
        "                        symmetrynumber=1, spin=0)\n",
        "G = thermo.get_gibbs_energy(temperature=298.15, pressure=101325.)\n",
        "H = thermo.get_enthalpy(temperature=298.15, verbose=False)\n",
        "S = thermo.get_entropy(temperature=298.15, pressure=101325., verbose=False)\n",
        "base_results['gibbs_energy'] = G\n",
        "base_results['enthalpy'] = H\n",
        "base_results['entropy'] = S"
      ],
      "metadata": {
        "id": "WdiZQkhLVIRC",
        "outputId": "3f0bebe3-b3bf-483a-ffc0-d24c303e277a",
        "colab": {
          "base_uri": "https://localhost:8080/"
        }
      },
      "execution_count": 17,
      "outputs": [
        {
          "output_type": "stream",
          "name": "stdout",
          "text": [
            "Enthalpy components at T = 298.15 K:\n",
            "===============================\n",
            "E_pot              -5123.076 eV\n",
            "E_ZPE                  0.609 eV\n",
            "Cv_trans (0->T)        0.039 eV\n",
            "Cv_rot (0->T)          0.039 eV\n",
            "Cv_vib (0->T)          0.003 eV\n",
            "(C_v -> C_p)           0.026 eV\n",
            "-------------------------------\n",
            "H                  -5122.361 eV\n",
            "===============================\n",
            "\n",
            "Entropy components at T = 298.15 K and P = 101325.0 Pa:\n",
            "=================================================\n",
            "                           S               T*S\n",
            "S_trans (1 bar)    0.0016203 eV/K        0.483 eV\n",
            "S_rot              0.0008986 eV/K        0.268 eV\n",
            "S_elec             0.0000000 eV/K        0.000 eV\n",
            "S_vib              0.0000132 eV/K        0.004 eV\n",
            "S (1 bar -> P)    -0.0000011 eV/K       -0.000 eV\n",
            "-------------------------------------------------\n",
            "S                  0.0025309 eV/K        0.755 eV\n",
            "=================================================\n",
            "\n",
            "Free energy components at T = 298.15 K and P = 101325.0 Pa:\n",
            "=======================\n",
            "    H      -5122.361 eV\n",
            " -T*S         -0.755 eV\n",
            "-----------------------\n",
            "    G      -5123.115 eV\n",
            "=======================\n"
          ]
        }
      ]
    },
    {
      "cell_type": "code",
      "source": [
        "\n",
        "from ase.vibrations import Vibrations\n",
        "#save the results in a list for later processing\n",
        "vibs = []\n",
        "for atoms in optimised_molecules:\n",
        "  print(atoms.get_chemical_formula())\n",
        "  vib = Vibrations(atoms, name=atoms.get_chemical_formula(), delta=0.01)\n",
        "  vib.clean()\n",
        "  vib.run()\n",
        "  vib.write_mode(0)\n",
        "  vib.write_mode(-1)\n",
        "  vib.summary()\n",
        "  vibs.append(vib)\n"
      ],
      "metadata": {
        "id": "moKG-Q5ot1vk",
        "outputId": "77f4e7b3-f468-47b8-89f2-d4b0810f0daa",
        "colab": {
          "base_uri": "https://localhost:8080/"
        }
      },
      "execution_count": 12,
      "outputs": [
        {
          "output_type": "stream",
          "name": "stdout",
          "text": [
            "CH2O2\n",
            "---------------------\n",
            "  #    meV     cm^-1\n",
            "---------------------\n",
            "  0    1.5i     12.3i\n",
            "  1    1.3i     10.6i\n",
            "  2    0.2i      1.4i\n",
            "  3    0.1       0.7\n",
            "  4    0.2       1.6\n",
            "  5    1.9      15.4\n",
            "  6   75.4     608.2\n",
            "  7   85.4     688.5\n",
            "  8  132.0    1064.5\n",
            "  9  133.1    1073.6\n",
            " 10  164.7    1328.6\n",
            " 11  176.8    1425.8\n",
            " 12  218.9    1765.8\n",
            " 13  383.1    3089.5\n",
            " 14  427.7    3449.3\n",
            "---------------------\n",
            "Zero-point energy: 0.900 eV\n",
            "CHO2\n",
            "---------------------\n",
            "  #    meV     cm^-1\n",
            "---------------------\n",
            "  0    1.0i      8.2i\n",
            "  1    1.0i      8.1i\n",
            "  2    0.2i      1.5i\n",
            "  3    0.2i      1.5i\n",
            "  4    0.0i      0.2i\n",
            "  5    3.9      31.3\n",
            "  6   94.5     762.3\n",
            "  7  133.0    1072.7\n",
            "  8  160.7    1296.0\n",
            "  9  179.8    1450.3\n",
            " 10  214.8    1732.7\n",
            " 11  290.9    2345.9\n",
            "---------------------\n",
            "Zero-point energy: 0.539 eV\n"
          ]
        }
      ]
    },
    {
      "cell_type": "markdown",
      "source": [
        "At this point you should have three dictionaries _h\\_results_, base\\_results_ and _acid\\_results_ that includes the electronic energy, enthalpy and entropy of these species.\n",
        "\n",
        "__Calculate the change in internal energy $\\Delta$U, the change in enthalpy $\\Delta$H, the entropy contribution T$\\Delta$S, and the Gibbs free energy change $\\Delta$G for the reaction (Eqns 23-27) and compare to your results for water.__\n"
      ],
      "metadata": {
        "id": "29Z2rBZ49vLr"
      }
    },
    {
      "cell_type": "code",
      "source": [
        "#answer for deltaU"
      ],
      "metadata": {
        "id": "zeUUP6SryLEp"
      },
      "execution_count": null,
      "outputs": []
    },
    {
      "cell_type": "code",
      "source": [
        "#answer for deltaH"
      ],
      "metadata": {
        "id": "Sio3owinyK5d"
      },
      "execution_count": null,
      "outputs": []
    },
    {
      "cell_type": "code",
      "source": [
        "#answer for deltaS"
      ],
      "metadata": {
        "id": "gkj8HBkVyKs-"
      },
      "execution_count": null,
      "outputs": []
    },
    {
      "cell_type": "code",
      "source": [
        "#answer for deltaG"
      ],
      "metadata": {
        "id": "JqtBLZZiyOdm"
      },
      "execution_count": null,
      "outputs": []
    },
    {
      "cell_type": "markdown",
      "source": [
        "_Your discussion_"
      ],
      "metadata": {
        "id": "CsNQo7CUsFus"
      }
    },
    {
      "cell_type": "markdown",
      "source": [
        "__Calculate K$_a$ and pK$_a$ at 298.15 K for the acid-ionisation reaction. Discuss how this compares with the experimentally determined value and why it might differ.__\n",
        "\n",
        "Experimental values at 298 K can be found in the NIST Chemistry WebBook (https://webbook.nist.gov/chemistry/). In the \"Gas phase ion energetics data\" section, search under for \"De- protonation Reactions\" for the acid, or \"Gas basicity\" for the conjugate base."
      ],
      "metadata": {
        "id": "ba05OW9ZyVuu"
      }
    },
    {
      "cell_type": "code",
      "source": [
        "#answer for Ka"
      ],
      "metadata": {
        "id": "zm_BCiX8ycle"
      },
      "execution_count": null,
      "outputs": []
    },
    {
      "cell_type": "code",
      "source": [
        "#answer for pKa"
      ],
      "metadata": {
        "id": "0qFMfV-zygUV"
      },
      "execution_count": null,
      "outputs": []
    },
    {
      "cell_type": "markdown",
      "source": [
        "_Your discussion_"
      ],
      "metadata": {
        "id": "X8NYggkuyqjf"
      }
    }
  ]
}