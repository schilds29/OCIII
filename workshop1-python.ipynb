{
  "cells": [
    {
      "cell_type": "markdown",
      "metadata": {
        "id": "view-in-github",
        "colab_type": "text"
      },
      "source": [
        "<a href=\"https://colab.research.google.com/github/schilds29/OCIII/blob/main/workshop1-python.ipynb\" target=\"_parent\"><img src=\"https://colab.research.google.com/assets/colab-badge.svg\" alt=\"Open In Colab\"/></a>"
      ]
    },
    {
      "cell_type": "markdown",
      "metadata": {
        "id": "x_96fPAeok0D"
      },
      "source": [
        "$x={-b \\pm \\sqrt{b^2 - 4ac} \\over 2a}$ for\n",
        "$ax^2 + bx + c = 0$"
      ]
    },
    {
      "cell_type": "markdown",
      "metadata": {
        "id": "sAgBjOM0ok0F"
      },
      "source": [
        "# Python Basics"
      ]
    },
    {
      "cell_type": "markdown",
      "metadata": {
        "id": "vmLKkI4Qok0G"
      },
      "source": [
        "Library – Python uses libraries to enable users to perform tasks without writing codes from scratch. The libraries that are used in the Workshop are Math, Numpy and Matplotlib. Scipy is another useful library for scientific computing."
      ]
    },
    {
      "cell_type": "markdown",
      "metadata": {
        "id": "bA9GY7atok0H"
      },
      "source": [
        "## 1. Math – https://docs.python.org/3/library/math.html"
      ]
    },
    {
      "cell_type": "markdown",
      "source": [
        "### Example 1a\n",
        "```python\n",
        "from math import factorial\n",
        "factorial(20)\n",
        "```\n",
        "\n",
        "### Example 1b\n",
        "```python\n",
        "import math\n",
        "math.factorial(20)\n",
        "```"
      ],
      "metadata": {
        "id": "eyHTCfEcwwUx"
      }
    },
    {
      "cell_type": "code",
      "source": [
        "from math import factorial\n",
        "factorial(20)"
      ],
      "metadata": {
        "id": "oBzju0u-ok0I",
        "colab": {
          "base_uri": "https://localhost:8080/"
        },
        "outputId": "8b7a5cec-372a-42a4-e180-5b56c7e9ea2e"
      },
      "execution_count": 1,
      "outputs": [
        {
          "output_type": "execute_result",
          "data": {
            "text/plain": [
              "2432902008176640000"
            ]
          },
          "metadata": {},
          "execution_count": 1
        }
      ]
    },
    {
      "cell_type": "code",
      "execution_count": 2,
      "metadata": {
        "id": "Ad0jc_ADok0I",
        "colab": {
          "base_uri": "https://localhost:8080/"
        },
        "outputId": "f5800588-0b4e-4f36-cef5-6de6e46bedb9"
      },
      "outputs": [
        {
          "output_type": "execute_result",
          "data": {
            "text/plain": [
              "2432902008176640000"
            ]
          },
          "metadata": {},
          "execution_count": 2
        }
      ],
      "source": [
        "import math\n",
        "math.factorial(20)"
      ]
    },
    {
      "cell_type": "markdown",
      "source": [
        "Example 1c – a short Python script to calculate using an equation\n",
        "\n",
        "$k = Ae^{-E_a \\over {RT}}$\n",
        "\n",
        "${\\ln} k = {\\ln} A - {E_a \\over {RT}}$\n",
        "\n",
        "${E_a \\over {RT}} = {\\ln} A - {\\ln} k$\n",
        "\n",
        "${E_a} = {RT}({\\ln} A - {\\ln} k)$"
      ],
      "metadata": {
        "id": "G-cf30VM0yHc"
      }
    },
    {
      "cell_type": "code",
      "execution_count": 3,
      "metadata": {
        "colab": {
          "base_uri": "https://localhost:8080/"
        },
        "id": "v0iPkPfhok0K",
        "outputId": "20ed6f78-8a06-4584-c461-435f7a3f1d9f"
      },
      "outputs": [
        {
          "output_type": "stream",
          "name": "stdout",
          "text": [
            "The activation energy = 273002.0785401358 J mol⁻¹\n"
          ]
        }
      ],
      "source": [
        "import math\n",
        "R = 8.314 #in J per mol per K\n",
        "T = 750 #in K\n",
        "A = 1.86e15 #in per sec\n",
        "k = 0.00018 #in per sec\n",
        "\n",
        "Ea = R * T * (math.log(A) - math.log(k))\n",
        "\n",
        "print (\"The activation energy = \" + str(Ea) + \" J mol\" + u'\\u207B\\u00B9')"
      ]
    },
    {
      "cell_type": "markdown",
      "metadata": {
        "id": "BxEO_2Ryok0K"
      },
      "source": [
        "### Question 1\n",
        "\n",
        "(a) Write a script using math.factorial, math.log to calculate ${\\ln} n!$, where $n$ is a 2-digit number of your choice.\n"
      ]
    },
    {
      "cell_type": "code",
      "execution_count": 17,
      "metadata": {
        "id": "AZ2uJCv2ok0K"
      },
      "outputs": [],
      "source": [
        "import math\n",
        "n = 64 # my choice of 2-digit number\n",
        "x = math.log(math.factorial(n))\n",
        "print (\"ln(64!) = \" + str(x))"
      ]
    },
    {
      "cell_type": "markdown",
      "metadata": {
        "id": "vTY37Tppok0K"
      },
      "source": [
        "(b) Copy the script above and add a line in your script to use the equation of Stirling’s approximation to calculate ${\\ln} n!$"
      ]
    },
    {
      "cell_type": "code",
      "execution_count": 18,
      "metadata": {
        "id": "ag7UihePok0L"
      },
      "outputs": [],
      "source": [
        "import math\n",
        "n = 64\n",
        "stirApprox = (math.sqrt(2*math.pi*n))*math.pow((n / math.e),n)\n",
        "x = math.log(stirApprox)\n",
        "print (\"Stirling's approximation = \" + str(stirApprox))\n",
        "print (\"hence, ln(64!) = \" + str(x))"
      ]
    },
    {
      "cell_type": "markdown",
      "metadata": {
        "id": "W5_uAEf6ok0L"
      },
      "source": [
        "(c) Add another line to calculate the difference between the real value (a) and the approximated value. Calculate the %difference, which is the difference/real value * 100%."
      ]
    },
    {
      "cell_type": "code",
      "execution_count": 11,
      "metadata": {
        "id": "J-dztwORok0M",
        "colab": {
          "base_uri": "https://localhost:8080/"
        },
        "outputId": "d7965854-faf2-4578-8a8e-513a17fc66b8"
      },
      "outputs": [
        {
          "output_type": "stream",
          "name": "stdout",
          "text": [
            "Percentage difference = 99.99936536327706\n"
          ]
        }
      ],
      "source": [
        "import math\n",
        "n = 64\n",
        "a = math.log(math.factorial(n))\n",
        "\n",
        "stirApprox = (math.sqrt(2*math.pi*n))*math.pow((n / math.e),n)\n",
        "b = math.log(stirApprox)\n",
        "\n",
        "percDiff = (b/a)*100\n",
        "print (\"Percentage difference = \" + str(percDiff))"
      ]
    },
    {
      "cell_type": "markdown",
      "metadata": {
        "id": "RNe9E5PVok0M"
      },
      "source": [
        "(d) Add two lines to print the following statements.\n",
        "\n",
        "${\\ln} n!$ is (the real value) and approximately (the approximated value) according to Stirling’s approximation.\n",
        "\n",
        "The difference is (%difference) of the real value."
      ]
    },
    {
      "cell_type": "code",
      "execution_count": 13,
      "metadata": {
        "id": "Y4Jfx1zfok0N",
        "colab": {
          "base_uri": "https://localhost:8080/"
        },
        "outputId": "e49e6e3b-5d63-477f-c245-0603921043cf"
      },
      "outputs": [
        {
          "output_type": "stream",
          "name": "stdout",
          "text": [
            "ln(n!) is 205.1681994826412 and approximately 205.1668974099035 according to Stirling's approximation.\n",
            "The difference is 99.99936536327706 of the real value.\n"
          ]
        }
      ],
      "source": [
        "import math\n",
        "n = 64\n",
        "a = math.log(math.factorial(n))\n",
        "\n",
        "stirApprox = (math.sqrt(2*math.pi*n))*math.pow((n / math.e),n)\n",
        "b = math.log(stirApprox)\n",
        "\n",
        "percDiff = (b/a)*100\n",
        "\n",
        "print (\"ln(n!) is \" + str(a) + \" and approximately \" + str(b) + \" according to Stirling's approximation.\")\n",
        "print (\"The difference is \" + str(percDiff) + \" of the real value.\")"
      ]
    },
    {
      "cell_type": "markdown",
      "metadata": {
        "id": "76Xlu9ZSok0N"
      },
      "source": [
        "(e) Starting from (a) to (d), perform the tasks for (i) ${\\ln} 100!$ and (ii) ${\\ln}10000!$"
      ]
    },
    {
      "cell_type": "code",
      "execution_count": 14,
      "metadata": {
        "id": "xTS1GKYdok0N",
        "colab": {
          "base_uri": "https://localhost:8080/"
        },
        "outputId": "1271c319-ee29-49ae-a9c8-0b8974ed300e"
      },
      "outputs": [
        {
          "output_type": "stream",
          "name": "stdout",
          "text": [
            "ln(n!) is 363.73937555556347 and approximately 363.73854222500785 according to Stirling's approximation.\n",
            "The difference is 99.99977089899758 of the real value.\n"
          ]
        }
      ],
      "source": [
        "import math\n",
        "n = 100\n",
        "a = math.log(math.factorial(n))\n",
        "\n",
        "stirApprox = (math.sqrt(2*math.pi*n))*math.pow((n / math.e),n)\n",
        "b = math.log(stirApprox)\n",
        "\n",
        "percDiff = (b/a)*100\n",
        "\n",
        "print (\"ln(n!) is \" + str(a) + \" and approximately \" + str(b) + \" according to Stirling's approximation.\")\n",
        "print (\"The difference is \" + str(percDiff) + \" of the real value.\")"
      ]
    },
    {
      "source": [
        "import math\n",
        "n = 10000\n",
        "a = math.log(math.factorial(n))\n",
        "\n",
        "# use the log of the approximation to avoid overflow:\n",
        "# log(sqrt(2*pi*n) * (n/e)^n) = log(sqrt(2*pi*n)) + log((n/e)^n)\n",
        "#                             = 0.5*log(2*pi*n) + n*log(n/e)\n",
        "#                             = 0.5*(log(2*pi) + log(n)) + n*(log(n) - log(e))\n",
        "#                             = 0.5*(log(2*pi) + log(n)) + n*(log(n) - 1)\n",
        "\n",
        "b = 0.5 * (math.log(2 * math.pi) + math.log(n)) + n * (math.log(n) - 1)\n",
        "\n",
        "percDiff = (math.exp(b-a))*100\n",
        "\n",
        "print (\"ln(n!) is \" + str(a) + \" and approximately \" + str(b) + \" according to Stirling's approximation.\")\n",
        "print (\"The difference is \" + str(percDiff) + \" of the real value.\")"
      ],
      "cell_type": "code",
      "metadata": {
        "colab": {
          "base_uri": "https://localhost:8080/"
        },
        "id": "6sZ2hx4nUsdR",
        "outputId": "1a73fa40-2ada-4992-8b62-6480ef625307"
      },
      "execution_count": 1,
      "outputs": [
        {
          "output_type": "stream",
          "name": "stdout",
          "text": [
            "ln(n!) is 82108.92783681436 and approximately 82108.92782848103 according to Stirling's approximation.\n",
            "The difference is 99.99916667058436 of the real value.\n"
          ]
        }
      ]
    },
    {
      "cell_type": "markdown",
      "metadata": {
        "id": "wdSi-Zyzok0O"
      },
      "source": [
        "## 2. Numpy – https://numpy.org/doc/stable"
      ]
    },
    {
      "cell_type": "markdown",
      "source": [
        "###Example 2a – array\n",
        "```python\n",
        "import numpy as np\n",
        "a = np.array([1,2,3,4,5,6])\n",
        "print(\"My first Python array is \" + str(a))\n",
        "```\n",
        "\n",
        "###Example 2b – linearly spaced array\n",
        "```python\n",
        "import numpy as np\n",
        "b = np.linspace(0,50,51)\n",
        "print(\"My first linearly spaced array in Python is \" + str(a))\n",
        "```\n",
        "\n",
        "###Example 2c – zeros & ones\n",
        "```python\n",
        "import numpy as np\n",
        "c = np.zeros(5)\n",
        "d = np.ones(5)\n",
        "print(str(c) + str(d))\n",
        "```\n",
        "\n",
        "\n",
        "In your pre-workshop exercise, there is an example (In [34]) showing how square values can be calculated. In Python, exponents are expressed using \\*\\* (note that numpy is not needed for \\*\\* as it is a basic function). For example, 2\\*\\*2 is 4 (try it) and 3\\*\\*3 is 27."
      ],
      "metadata": {
        "id": "b5ET5T8Z01sF"
      }
    },
    {
      "cell_type": "code",
      "execution_count": 4,
      "metadata": {
        "id": "HPGxR4vuok0P",
        "colab": {
          "base_uri": "https://localhost:8080/"
        },
        "outputId": "5a685042-ac0c-4b53-dc31-2c256992b914"
      },
      "outputs": [
        {
          "output_type": "stream",
          "name": "stdout",
          "text": [
            "9\n"
          ]
        }
      ],
      "source": [
        "print (str(3**2))"
      ]
    },
    {
      "cell_type": "markdown",
      "metadata": {
        "id": "V_IRECPBok0P"
      },
      "source": [
        "### Question 2\n",
        "\n",
        "(a) Use numpy to create a linearly space array of even numbers ranging from 0 to 50 (i.e., [0. 2. 4. 6. …… 50.]. Show your work."
      ]
    },
    {
      "cell_type": "code",
      "execution_count": 12,
      "metadata": {
        "id": "kmYzlLaeok0P",
        "colab": {
          "base_uri": "https://localhost:8080/"
        },
        "outputId": "5ab967fc-fa2e-4777-8d7f-13bae2db7d7a"
      },
      "outputs": [
        {
          "output_type": "stream",
          "name": "stdout",
          "text": [
            "[ 0.  2.  4.  6.  8. 10. 12. 14. 16. 18. 20. 22. 24. 26. 28. 30. 32. 34.\n",
            " 36. 38. 40. 42. 44. 46. 48. 50.]\n"
          ]
        }
      ],
      "source": [
        "import numpy as np\n",
        "q2a = np.linspace(0,50,num=26)\n",
        "# numpy.linspace(start, stop, num=50, endpoint=True, retstep=False, dtype=None, axis=0)\n",
        "# therefore start = 0, stop = 50, there are 26 even numbers incl 0 and 50\n",
        "print (q2a)"
      ]
    },
    {
      "cell_type": "markdown",
      "metadata": {
        "id": "dUOljjFVok0Q"
      },
      "source": [
        "(b) Use numpy to create an array of 51 ones. Then, add this array to Array b (from Example 2b) to form a new array that ranges from 1 to 51 (i.e., [1. 2. 3. 4. …… 51.]. Show your work."
      ]
    },
    {
      "cell_type": "code",
      "execution_count": 15,
      "metadata": {
        "id": "r1ySpyQtok0Q",
        "colab": {
          "base_uri": "https://localhost:8080/"
        },
        "outputId": "9e591d99-34d7-4428-d60c-5e9ae2a034eb"
      },
      "outputs": [
        {
          "output_type": "stream",
          "name": "stdout",
          "text": [
            "[ 1.  2.  3.  4.  5.  6.  7.  8.  9. 10. 11. 12. 13. 14. 15. 16. 17. 18.\n",
            " 19. 20. 21. 22. 23. 24. 25. 26. 27. 28. 29. 30. 31. 32. 33. 34. 35. 36.\n",
            " 37. 38. 39. 40. 41. 42. 43. 44. 45. 46. 47. 48. 49. 50. 51.]\n"
          ]
        }
      ],
      "source": [
        "import numpy as np\n",
        "b = np.linspace(0, 50, 51) # array from 0 to 50\n",
        "q2b = np.ones(51) # array of 1s\n",
        "new = b + q2b # add all elements\n",
        "print (new)"
      ]
    },
    {
      "cell_type": "markdown",
      "metadata": {
        "id": "XPnneg_uok0Q"
      },
      "source": [
        "(c) Use the \\*\\* function to create a new array with values that are squares of those of Array b, i.e., [0. 1. 4. 9. 16. …… 2500.]. Show your work.\n",
        "\n"
      ]
    },
    {
      "cell_type": "code",
      "execution_count": 25,
      "metadata": {
        "id": "Cx-hPTMCok0Q",
        "colab": {
          "base_uri": "https://localhost:8080/"
        },
        "outputId": "fc2bc444-8a0b-4f1f-ff9f-17f2e2a0a348"
      },
      "outputs": [
        {
          "output_type": "stream",
          "name": "stdout",
          "text": [
            "[0.000e+00 1.000e+00 4.000e+00 9.000e+00 1.600e+01 2.500e+01 3.600e+01\n",
            " 4.900e+01 6.400e+01 8.100e+01 1.000e+02 1.210e+02 1.440e+02 1.690e+02\n",
            " 1.960e+02 2.250e+02 2.560e+02 2.890e+02 3.240e+02 3.610e+02 4.000e+02\n",
            " 4.410e+02 4.840e+02 5.290e+02 5.760e+02 6.250e+02 6.760e+02 7.290e+02\n",
            " 7.840e+02 8.410e+02 9.000e+02 9.610e+02 1.024e+03 1.089e+03 1.156e+03\n",
            " 1.225e+03 1.296e+03 1.369e+03 1.444e+03 1.521e+03 1.600e+03 1.681e+03\n",
            " 1.764e+03 1.849e+03 1.936e+03 2.025e+03 2.116e+03 2.209e+03 2.304e+03\n",
            " 2.401e+03 2.500e+03]\n"
          ]
        }
      ],
      "source": [
        "import numpy as np\n",
        "q2c = np.linspace(0, 50, 51)\n",
        "new = q2c**2 # broadcasting\n",
        "print (new)"
      ]
    },
    {
      "cell_type": "markdown",
      "metadata": {
        "id": "6THWpg1Wok0R"
      },
      "source": [
        "## 3. Matplotlib – https://matplotlib.org/stable/index.html"
      ]
    },
    {
      "cell_type": "markdown",
      "source": [
        "###Example 3a – making a linear plot\n",
        "```python\n",
        "import numpy as np\n",
        "b = np.linspace(0,50,51)\n",
        "c = b\n",
        "import matplotlib.pyplot as plt\n",
        "plt.figure(figsize=(8,6))\n",
        "plt.plot(b,c,'o',label=\"linear\")\n",
        "plt.xlabel(\"x\")\n",
        "plt.ylabel(\"y\")\n",
        "plt.legend()\n",
        "```"
      ],
      "metadata": {
        "id": "0eQW_uje07T-"
      }
    },
    {
      "cell_type": "code",
      "execution_count": 34,
      "metadata": {
        "id": "Q4bGcwqbok0R",
        "colab": {
          "base_uri": "https://localhost:8080/",
          "height": 560
        },
        "outputId": "294d4490-527e-47c6-e223-a91b3ca68ce6"
      },
      "outputs": [
        {
          "output_type": "execute_result",
          "data": {
            "text/plain": [
              "<matplotlib.legend.Legend at 0x7b2744e773d0>"
            ]
          },
          "metadata": {},
          "execution_count": 34
        },
        {
          "output_type": "display_data",
          "data": {
            "text/plain": [
              "<Figure size 800x600 with 1 Axes>"
            ],
            "image/png": "[encoded data removed]"
          },
          "metadata": {}
        }
      ],
      "source": [
        "import numpy as np\n",
        "b = np.linspace(0,50,51)\n",
        "c = b\n",
        "import matplotlib.pyplot as plt\n",
        "plt.figure(figsize=(8,6))\n",
        "plt.plot(b,c,'o',label=\"linear\")\n",
        "plt.xlabel(\"x\")\n",
        "plt.ylabel(\"y\")\n",
        "plt.legend()"
      ]
    },
    {
      "cell_type": "markdown",
      "source": [
        "Spot the difference – rerun the code above by replacing line 6 with:\n",
        "\n",
        "1.\n",
        "```python\n",
        "plt.plot(b,c,'o-',label=\"linear\")\n",
        "```\n",
        "\n",
        "2.\n",
        "```python\n",
        "plt.plot(b,c,'ro-',label=\"linear\")\n",
        "```\n",
        "\n",
        "3.\n",
        "```python\n",
        "plt.plot(b,c,'gx',label=\"linear\")\n",
        "```"
      ],
      "metadata": {
        "id": "8cBTucJP1ARr"
      }
    },
    {
      "cell_type": "code",
      "execution_count": 35,
      "metadata": {
        "id": "jqmFiyzmok0S",
        "colab": {
          "base_uri": "https://localhost:8080/",
          "height": 560
        },
        "outputId": "043a2c80-b603-45f7-b12f-e2e11514be9c"
      },
      "outputs": [
        {
          "output_type": "execute_result",
          "data": {
            "text/plain": [
              "<matplotlib.legend.Legend at 0x7b2744d49d90>"
            ]
          },
          "metadata": {},
          "execution_count": 35
        },
        {
          "output_type": "display_data",
          "data": {
            "text/plain": [
              "<Figure size 800x600 with 1 Axes>"
            ],
            "image/png": "[encoded data removed]"
          },
          "metadata": {}
        }
      ],
      "source": [
        "import numpy as np\n",
        "b = np.linspace(0,50,51)\n",
        "c = b\n",
        "import matplotlib.pyplot as plt\n",
        "plt.figure(figsize=(8,6))\n",
        "plt.plot(b,c,'o-',label=\"linear\")\n",
        "plt.xlabel(\"x\")\n",
        "plt.ylabel(\"y\")\n",
        "plt.legend()"
      ]
    },
    {
      "cell_type": "code",
      "execution_count": 36,
      "metadata": {
        "id": "tUqU8BuLok0S",
        "colab": {
          "base_uri": "https://localhost:8080/",
          "height": 560
        },
        "outputId": "0ae37180-a325-4768-ba2f-70aae41052ed"
      },
      "outputs": [
        {
          "output_type": "execute_result",
          "data": {
            "text/plain": [
              "<matplotlib.legend.Legend at 0x7b2744dcd1d0>"
            ]
          },
          "metadata": {},
          "execution_count": 36
        },
        {
          "output_type": "display_data",
          "data": {
            "text/plain": [
              "<Figure size 800x600 with 1 Axes>"
            ],
            "image/png": "[encoded data removed]"
          },
          "metadata": {}
        }
      ],
      "source": [
        "import numpy as np\n",
        "b = np.linspace(0,50,51)\n",
        "c = b\n",
        "import matplotlib.pyplot as plt\n",
        "plt.figure(figsize=(8,6))\n",
        "plt.plot(b,c,'ro-',label=\"linear\")\n",
        "plt.xlabel(\"x\")\n",
        "plt.ylabel(\"y\")\n",
        "plt.legend()"
      ]
    },
    {
      "cell_type": "code",
      "execution_count": 37,
      "metadata": {
        "id": "T058E8fLok0S",
        "colab": {
          "base_uri": "https://localhost:8080/",
          "height": 560
        },
        "outputId": "f3428c32-247d-4327-de43-bae600542fcd"
      },
      "outputs": [
        {
          "output_type": "execute_result",
          "data": {
            "text/plain": [
              "<matplotlib.legend.Legend at 0x7b2744c04ed0>"
            ]
          },
          "metadata": {},
          "execution_count": 37
        },
        {
          "output_type": "display_data",
          "data": {
            "text/plain": [
              "<Figure size 800x600 with 1 Axes>"
            ],
            "image/png": "[encoded data removed]"
          },
          "metadata": {}
        }
      ],
      "source": [
        "import numpy as np\n",
        "b = np.linspace(0,50,51)\n",
        "c = b\n",
        "import matplotlib.pyplot as plt\n",
        "plt.figure(figsize=(8,6))\n",
        "plt.plot(b,c,'gx',label=\"linear\")\n",
        "plt.xlabel(\"x\")\n",
        "plt.ylabel(\"y\")\n",
        "plt.legend()"
      ]
    },
    {
      "cell_type": "markdown",
      "metadata": {
        "id": "z977L4yTok0S"
      },
      "source": [
        "### Question 3\n",
        "(a) The plot above has a slope of 1. Modify the codes above to make a plot with a slope of 2. Make the size of the plot 10,10. Label the x-axis as “Number” and y-axis as “Intensity”. Show the data points as magenta crosses and connect the data points using a dotted line. Provide a legend that states “Magenta linear dots”."
      ]
    },
    {
      "cell_type": "code",
      "execution_count": 49,
      "metadata": {
        "id": "TrrL5P48ok0S",
        "colab": {
          "base_uri": "https://localhost:8080/",
          "height": 868
        },
        "outputId": "1d300cfe-45c9-49c2-8f46-5580aa17de11"
      },
      "outputs": [
        {
          "output_type": "execute_result",
          "data": {
            "text/plain": [
              "<matplotlib.legend.Legend at 0x7b27449629d0>"
            ]
          },
          "metadata": {},
          "execution_count": 49
        },
        {
          "output_type": "display_data",
          "data": {
            "text/plain": [
              "<Figure size 1000x1000 with 1 Axes>"
            ],
            "image/png": "[encoded data removed]"
          },
          "metadata": {}
        }
      ],
      "source": [
        "import numpy as np\n",
        "b = np.linspace(0,50,51)\n",
        "import matplotlib.pyplot as plt\n",
        "plt.figure(figsize=(10,10))\n",
        "plt.plot(b,b*2,'mx-',label=\"Magenta linear dots\")\n",
        "plt.xlabel(\"Number\")\n",
        "plt.ylabel(\"Intensity\")\n",
        "plt.legend()"
      ]
    },
    {
      "cell_type": "markdown",
      "source": [
        "###Example 3b – loading data to make a plot\n",
        "Download the files abs.csv & fluor.csv and upload them to this working directory.\n",
        "\n",
        "```python\n",
        "import pandas as pd\n",
        "dataframe = pd.read_csv(\"abs.csv\", header=None)\n",
        "data = dataframe.values\n",
        "x, y = data[:,0], data[:,1]\n",
        "import matplotlib.pyplot as plt\n",
        "plt.figure(figsize=(8,6))\n",
        "plt.plot(x,y,'b-',label=\"Abs\")\n",
        "plt.xlabel(\"x\")\n",
        "plt.ylabel(\"y\")\n",
        "plt.legend()\n",
        "```"
      ],
      "metadata": {
        "id": "77_O81r81EK6"
      }
    },
    {
      "cell_type": "code",
      "execution_count": 51,
      "metadata": {
        "id": "Xha7Kn-cok0S",
        "colab": {
          "base_uri": "https://localhost:8080/",
          "height": 382
        },
        "outputId": "84760aa3-bbbc-4c65-c99f-cc7a663b8637"
      },
      "outputs": [
        {
          "output_type": "error",
          "ename": "FileNotFoundError",
          "evalue": "[Errno 2] No such file or directory: 'abs.csv'",
          "traceback": [
            "\u001b[0;31m---------------------------------------------------------------------------\u001b[0m",
            "\u001b[0;31mFileNotFoundError\u001b[0m                         Traceback (most recent call last)",
            "\u001b[0;32m<ipython-input-51-89d1834b4fb9>\u001b[0m in \u001b[0;36m<cell line: 0>\u001b[0;34m()\u001b[0m\n\u001b[1;32m      1\u001b[0m \u001b[0;32mimport\u001b[0m \u001b[0mpandas\u001b[0m \u001b[0;32mas\u001b[0m \u001b[0mpd\u001b[0m\u001b[0;34m\u001b[0m\u001b[0;34m\u001b[0m\u001b[0m\n\u001b[0;32m----> 2\u001b[0;31m \u001b[0mdataframe\u001b[0m \u001b[0;34m=\u001b[0m \u001b[0mpd\u001b[0m\u001b[0;34m.\u001b[0m\u001b[0mread_csv\u001b[0m\u001b[0;34m(\u001b[0m\u001b[0;34m\"abs.csv\"\u001b[0m\u001b[0;34m,\u001b[0m \u001b[0mheader\u001b[0m\u001b[0;34m=\u001b[0m\u001b[0;32mNone\u001b[0m\u001b[0;34m)\u001b[0m\u001b[0;34m\u001b[0m\u001b[0;34m\u001b[0m\u001b[0m\n\u001b[0m\u001b[1;32m      3\u001b[0m \u001b[0mdata\u001b[0m \u001b[0;34m=\u001b[0m \u001b[0mdataframe\u001b[0m\u001b[0;34m.\u001b[0m\u001b[0mvalues\u001b[0m\u001b[0;34m\u001b[0m\u001b[0;34m\u001b[0m\u001b[0m\n\u001b[1;32m      4\u001b[0m \u001b[0mx\u001b[0m\u001b[0;34m,\u001b[0m \u001b[0my\u001b[0m \u001b[0;34m=\u001b[0m \u001b[0mdata\u001b[0m\u001b[0;34m[\u001b[0m\u001b[0;34m:\u001b[0m\u001b[0;34m,\u001b[0m\u001b[0;36m0\u001b[0m\u001b[0;34m]\u001b[0m\u001b[0;34m,\u001b[0m \u001b[0mdata\u001b[0m\u001b[0;34m[\u001b[0m\u001b[0;34m:\u001b[0m\u001b[0;34m,\u001b[0m\u001b[0;36m1\u001b[0m\u001b[0;34m]\u001b[0m\u001b[0;34m\u001b[0m\u001b[0;34m\u001b[0m\u001b[0m\n\u001b[1;32m      5\u001b[0m \u001b[0;32mimport\u001b[0m \u001b[0mmatplotlib\u001b[0m\u001b[0;34m.\u001b[0m\u001b[0mpyplot\u001b[0m \u001b[0;32mas\u001b[0m \u001b[0mplt\u001b[0m\u001b[0;34m\u001b[0m\u001b[0;34m\u001b[0m\u001b[0m\n",
            "\u001b[0;32m/usr/local/lib/python3.11/dist-packages/pandas/io/parsers/readers.py\u001b[0m in \u001b[0;36mread_csv\u001b[0;34m(filepath_or_buffer, sep, delimiter, header, names, index_col, usecols, dtype, engine, converters, true_values, false_values, skipinitialspace, skiprows, skipfooter, nrows, na_values, keep_default_na, na_filter, verbose, skip_blank_lines, parse_dates, infer_datetime_format, keep_date_col, date_parser, date_format, dayfirst, cache_dates, iterator, chunksize, compression, thousands, decimal, lineterminator, quotechar, quoting, doublequote, escapechar, comment, encoding, encoding_errors, dialect, on_bad_lines, delim_whitespace, low_memory, memory_map, float_precision, storage_options, dtype_backend)\u001b[0m\n\u001b[1;32m   1024\u001b[0m     \u001b[0mkwds\u001b[0m\u001b[0;34m.\u001b[0m\u001b[0mupdate\u001b[0m\u001b[0;34m(\u001b[0m\u001b[0mkwds_defaults\u001b[0m\u001b[0;34m)\u001b[0m\u001b[0;34m\u001b[0m\u001b[0;34m\u001b[0m\u001b[0m\n\u001b[1;32m   1025\u001b[0m \u001b[0;34m\u001b[0m\u001b[0m\n\u001b[0;32m-> 1026\u001b[0;31m     \u001b[0;32mreturn\u001b[0m \u001b[0m_read\u001b[0m\u001b[0;34m(\u001b[0m\u001b[0mfilepath_or_buffer\u001b[0m\u001b[0;34m,\u001b[0m \u001b[0mkwds\u001b[0m\u001b[0;34m)\u001b[0m\u001b[0;34m\u001b[0m\u001b[0;34m\u001b[0m\u001b[0m\n\u001b[0m\u001b[1;32m   1027\u001b[0m \u001b[0;34m\u001b[0m\u001b[0m\n\u001b[1;32m   1028\u001b[0m \u001b[0;34m\u001b[0m\u001b[0m\n",
            "\u001b[0;32m/usr/local/lib/python3.11/dist-packages/pandas/io/parsers/readers.py\u001b[0m in \u001b[0;36m_read\u001b[0;34m(filepath_or_buffer, kwds)\u001b[0m\n\u001b[1;32m    618\u001b[0m \u001b[0;34m\u001b[0m\u001b[0m\n\u001b[1;32m    619\u001b[0m     \u001b[0;31m# Create the parser.\u001b[0m\u001b[0;34m\u001b[0m\u001b[0;34m\u001b[0m\u001b[0m\n\u001b[0;32m--> 620\u001b[0;31m     \u001b[0mparser\u001b[0m \u001b[0;34m=\u001b[0m \u001b[0mTextFileReader\u001b[0m\u001b[0;34m(\u001b[0m\u001b[0mfilepath_or_buffer\u001b[0m\u001b[0;34m,\u001b[0m \u001b[0;34m**\u001b[0m\u001b[0mkwds\u001b[0m\u001b[0;34m)\u001b[0m\u001b[0;34m\u001b[0m\u001b[0;34m\u001b[0m\u001b[0m\n\u001b[0m\u001b[1;32m    621\u001b[0m \u001b[0;34m\u001b[0m\u001b[0m\n\u001b[1;32m    622\u001b[0m     \u001b[0;32mif\u001b[0m \u001b[0mchunksize\u001b[0m \u001b[0;32mor\u001b[0m \u001b[0miterator\u001b[0m\u001b[0;34m:\u001b[0m\u001b[0;34m\u001b[0m\u001b[0;34m\u001b[0m\u001b[0m\n",
            "\u001b[0;32m/usr/local/lib/python3.11/dist-packages/pandas/io/parsers/readers.py\u001b[0m in \u001b[0;36m__init__\u001b[0;34m(self, f, engine, **kwds)\u001b[0m\n\u001b[1;32m   1618\u001b[0m \u001b[0;34m\u001b[0m\u001b[0m\n\u001b[1;32m   1619\u001b[0m         \u001b[0mself\u001b[0m\u001b[0;34m.\u001b[0m\u001b[0mhandles\u001b[0m\u001b[0;34m:\u001b[0m \u001b[0mIOHandles\u001b[0m \u001b[0;34m|\u001b[0m \u001b[0;32mNone\u001b[0m \u001b[0;34m=\u001b[0m \u001b[0;32mNone\u001b[0m\u001b[0;34m\u001b[0m\u001b[0;34m\u001b[0m\u001b[0m\n\u001b[0;32m-> 1620\u001b[0;31m         \u001b[0mself\u001b[0m\u001b[0;34m.\u001b[0m\u001b[0m_engine\u001b[0m \u001b[0;34m=\u001b[0m \u001b[0mself\u001b[0m\u001b[0;34m.\u001b[0m\u001b[0m_make_engine\u001b[0m\u001b[0;34m(\u001b[0m\u001b[0mf\u001b[0m\u001b[0;34m,\u001b[0m \u001b[0mself\u001b[0m\u001b[0;34m.\u001b[0m\u001b[0mengine\u001b[0m\u001b[0;34m)\u001b[0m\u001b[0;34m\u001b[0m\u001b[0;34m\u001b[0m\u001b[0m\n\u001b[0m\u001b[1;32m   1621\u001b[0m \u001b[0;34m\u001b[0m\u001b[0m\n\u001b[1;32m   1622\u001b[0m     \u001b[0;32mdef\u001b[0m \u001b[0mclose\u001b[0m\u001b[0;34m(\u001b[0m\u001b[0mself\u001b[0m\u001b[0;34m)\u001b[0m \u001b[0;34m->\u001b[0m \u001b[0;32mNone\u001b[0m\u001b[0;34m:\u001b[0m\u001b[0;34m\u001b[0m\u001b[0;34m\u001b[0m\u001b[0m\n",
            "\u001b[0;32m/usr/local/lib/python3.11/dist-packages/pandas/io/parsers/readers.py\u001b[0m in \u001b[0;36m_make_engine\u001b[0;34m(self, f, engine)\u001b[0m\n\u001b[1;32m   1878\u001b[0m                 \u001b[0;32mif\u001b[0m \u001b[0;34m\"b\"\u001b[0m \u001b[0;32mnot\u001b[0m \u001b[0;32min\u001b[0m \u001b[0mmode\u001b[0m\u001b[0;34m:\u001b[0m\u001b[0;34m\u001b[0m\u001b[0;34m\u001b[0m\u001b[0m\n\u001b[1;32m   1879\u001b[0m                     \u001b[0mmode\u001b[0m \u001b[0;34m+=\u001b[0m \u001b[0;34m\"b\"\u001b[0m\u001b[0;34m\u001b[0m\u001b[0;34m\u001b[0m\u001b[0m\n\u001b[0;32m-> 1880\u001b[0;31m             self.handles = get_handle(\n\u001b[0m\u001b[1;32m   1881\u001b[0m                 \u001b[0mf\u001b[0m\u001b[0;34m,\u001b[0m\u001b[0;34m\u001b[0m\u001b[0;34m\u001b[0m\u001b[0m\n\u001b[1;32m   1882\u001b[0m                 \u001b[0mmode\u001b[0m\u001b[0;34m,\u001b[0m\u001b[0;34m\u001b[0m\u001b[0;34m\u001b[0m\u001b[0m\n",
            "\u001b[0;32m/usr/local/lib/python3.11/dist-packages/pandas/io/common.py\u001b[0m in \u001b[0;36mget_handle\u001b[0;34m(path_or_buf, mode, encoding, compression, memory_map, is_text, errors, storage_options)\u001b[0m\n\u001b[1;32m    871\u001b[0m         \u001b[0;32mif\u001b[0m \u001b[0mioargs\u001b[0m\u001b[0;34m.\u001b[0m\u001b[0mencoding\u001b[0m \u001b[0;32mand\u001b[0m \u001b[0;34m\"b\"\u001b[0m \u001b[0;32mnot\u001b[0m \u001b[0;32min\u001b[0m \u001b[0mioargs\u001b[0m\u001b[0;34m.\u001b[0m\u001b[0mmode\u001b[0m\u001b[0;34m:\u001b[0m\u001b[0;34m\u001b[0m\u001b[0;34m\u001b[0m\u001b[0m\n\u001b[1;32m    872\u001b[0m             \u001b[0;31m# Encoding\u001b[0m\u001b[0;34m\u001b[0m\u001b[0;34m\u001b[0m\u001b[0m\n\u001b[0;32m--> 873\u001b[0;31m             handle = open(\n\u001b[0m\u001b[1;32m    874\u001b[0m                 \u001b[0mhandle\u001b[0m\u001b[0;34m,\u001b[0m\u001b[0;34m\u001b[0m\u001b[0;34m\u001b[0m\u001b[0m\n\u001b[1;32m    875\u001b[0m                 \u001b[0mioargs\u001b[0m\u001b[0;34m.\u001b[0m\u001b[0mmode\u001b[0m\u001b[0;34m,\u001b[0m\u001b[0;34m\u001b[0m\u001b[0;34m\u001b[0m\u001b[0m\n",
            "\u001b[0;31mFileNotFoundError\u001b[0m: [Errno 2] No such file or directory: 'abs.csv'"
          ]
        }
      ],
      "source": [
        "import pandas as pd\n",
        "dataframe = pd.read_csv(\"abs.csv\", header=None)\n",
        "data = dataframe.values\n",
        "x, y = data[:,0], data[:,1]\n",
        "import matplotlib.pyplot as plt\n",
        "plt.figure(figsize=(8,6))\n",
        "plt.plot(x,y,'b-',label=\"Abs\")\n",
        "plt.xlabel(\"x\")\n",
        "plt.ylabel(\"y\")\n",
        "plt.legend()"
      ]
    },
    {
      "cell_type": "markdown",
      "source": [
        "Note the maximum y-value of this plot. Now replace the 4th line with:*italicized text*\n",
        "```python\n",
        "x, y = data[:,0], data[:,1]/max(data[:,1])\n",
        "```"
      ],
      "metadata": {
        "id": "evENlThjok0T"
      }
    },
    {
      "cell_type": "code",
      "execution_count": null,
      "metadata": {
        "id": "gNZBY9Ugok0T"
      },
      "outputs": [],
      "source": []
    },
    {
      "cell_type": "markdown",
      "source": [
        "What is the difference with this modification? What does the max function do?"
      ],
      "metadata": {
        "id": "j6DMLktt1LZY"
      }
    },
    {
      "cell_type": "markdown",
      "source": [
        "*Your* comments:"
      ],
      "metadata": {
        "id": "gVsj9cujok0T"
      }
    },
    {
      "cell_type": "code",
      "execution_count": null,
      "metadata": {
        "id": "aRuZM2ahok0T"
      },
      "outputs": [],
      "source": []
    },
    {
      "cell_type": "markdown",
      "source": [
        "Next, remove\n",
        "```python\n",
        "/max(data[:,1])\n",
        "```\n",
        "from the line, replace _abs.csv_ with _fluor.csv_, label the plot _“Fluor”_ and run the code."
      ],
      "metadata": {
        "id": "IrzX5_SPok0T"
      }
    },
    {
      "cell_type": "code",
      "execution_count": null,
      "metadata": {
        "id": "q_8Py6wrok0T"
      },
      "outputs": [],
      "source": []
    },
    {
      "cell_type": "markdown",
      "source": [
        "Once again, note the maximum y-value and use the max function on the y-data of _fluor.csv_"
      ],
      "metadata": {
        "id": "OVlY43_1ok0T"
      }
    },
    {
      "cell_type": "code",
      "execution_count": null,
      "metadata": {
        "id": "TqANlYduok0U"
      },
      "outputs": [],
      "source": []
    },
    {
      "cell_type": "markdown",
      "metadata": {
        "id": "BvmmVLRPok0U"
      },
      "source": [
        "Question 3(b) Plot both sets of data with a y-maximum of 1 in one plot by using the hints below.\n",
        "\n",
        "(i) Use two distinct variables (e.g. dataframe1 & dataframe2) to name the strings from abs.csv and fluor.csv\n",
        "(ii) use the same approach for the next step, which defines the values of the read strings\n",
        "(iii) define the additional x, y values (e.g. x2, y2)\n",
        "(iv) make the y-maximum value 1 using the example above\n",
        "(v) add an additional line to add the second set of data, e.g. plt.plot(x2,y2,'r-',label=\"Fluor\")\n",
        "(vi) Make the absorption curve blue (solid line) and fluorescence curve red\n",
        "(vii) Label the x-axis as “Wavelength (nm)” and y-axis as “Normalised absorbance or fluorescence."
      ]
    },
    {
      "cell_type": "code",
      "execution_count": null,
      "metadata": {
        "id": "0S6KThbnok0U"
      },
      "outputs": [],
      "source": []
    },
    {
      "cell_type": "markdown",
      "metadata": {
        "id": "E04u5zkdok0U"
      },
      "source": [
        "Question 3(c) Download carpathite.csv & dawsonite.csv, load them in Python,\n",
        "plot both sets of data (blue and red) with normalised intensity (maximum y-value of 1) in the same plot. Label the y-axis “Normalised intensity” and x-axis “Raman shift (cm$^{-1}$)”"
      ]
    },
    {
      "cell_type": "markdown",
      "source": [
        "Hint: use _(cm$^{-1}$)_ in your x-axis label."
      ],
      "metadata": {
        "id": "8ksrP2Me1QkI"
      }
    },
    {
      "cell_type": "code",
      "execution_count": null,
      "metadata": {
        "id": "wKKlmm7nok0V"
      },
      "outputs": [],
      "source": []
    },
    {
      "cell_type": "markdown",
      "metadata": {
        "id": "CkIs0ollok0V"
      },
      "source": [
        "## 4. Scipy – https://www.scipy.org"
      ]
    },
    {
      "cell_type": "markdown",
      "source": [
        "Example 4a - curve fitting\n",
        "==========================\n",
        "Spend ~10 minutes to understand the code\n",
        "\n",
        "```python\n",
        "import matplotlib.pyplot as plt\n",
        "import numpy as np\n",
        "import scipy.optimize as sp\n",
        "\n",
        "def func(x, a, b, c):\n",
        "    return a * np.exp(-b * x) + c\n",
        "\n",
        "#Generate the data to be fit with some noise:\n",
        "xdata = np.linspace(0, 4, 50)\n",
        "y = func(xdata, 2.5, 1.3, 0.5)\n",
        "np.random.seed(1729)\n",
        "y_noise = 0.1 * np.random.normal(size=xdata.size)\n",
        "ydata = y + y_noise\n",
        "\n",
        "plt.figure(figsize=(8,6))\n",
        "plt.plot(xdata, ydata, 'bo', mfc='none', label='data')\n",
        "\n",
        "#Fit1: fit for the parameters a, b, c of the function func:\n",
        "popt, pcov = sp.curve_fit(func, xdata, ydata)\n",
        "#popt is the array of the optimised values and pcov contains the estimated covariance of popt\n",
        "\n",
        "plt.plot(xdata, func(xdata, *popt), 'r-',\n",
        "         label='fit: a=%.3f, b=%5.3f, c=%5.3f' % tuple(popt))\n",
        "\n",
        "#Fit2: constrain the optimization to the region of 0 <= a <= 3, 0 <= b <= 1 and 0 <= c <= 0.5:\n",
        "popt, pcov = sp.curve_fit(func, xdata, ydata, bounds=([0.0, 0.0, 0.0], [3.0, 1.0, 0.5]))\n",
        "\n",
        "plt.plot(xdata, func(xdata, *popt), 'g--',\n",
        "         label='fit: a=%5.3f, b=%5.3f, c=%5.3f' % tuple(popt))\n",
        "\n",
        "plt.xlabel('x')\n",
        "plt.ylabel('y')\n",
        "plt.legend()\n",
        "plt.show()\n",
        "```"
      ],
      "metadata": {
        "id": "b0hMrYRr1T5J"
      }
    },
    {
      "cell_type": "code",
      "execution_count": null,
      "metadata": {
        "id": "kjRJ3PL3ok0V"
      },
      "outputs": [],
      "source": []
    },
    {
      "cell_type": "markdown",
      "metadata": {
        "id": "QEbcisj-ok0W"
      },
      "source": [
        "### Question 4\n",
        "(a)\n",
        "Generate a code by using the following information.\n",
        "\n",
        "(i) Define a linear function, $ax + b$ (use values other than $a=1$ and/or $b=0$.\n",
        "\n",
        "(ii) Generate data ($x$ ranges from -10 to 10 with 101 points) with some noise (~10% of the maximum $y$ value).\n",
        "\n",
        "(iii) Fit for the parameters $a, b$ of the function func.\n",
        "\n",
        "(iv) Plot the data as red empty circles and fit curve as a black solid curve.\n"
      ]
    },
    {
      "cell_type": "code",
      "execution_count": null,
      "metadata": {
        "id": "JhWBw2vgok0W"
      },
      "outputs": [],
      "source": []
    },
    {
      "cell_type": "markdown",
      "metadata": {
        "id": "schIZAA0ok0W"
      },
      "source": [
        "Question 4(b)\n",
        "Generate a code by using the following information.\n",
        "\n",
        "(i) Use the same linear function as above for this part.\n",
        "\n",
        "(ii) Generate data ($x$ ranges from -10 to 10 with 101 points) with some noise (<span style='color:Red'> only ~1% </span> of the maximum $y$ value).\n",
        "\n",
        "(iii) Fit for the parameters $a, b$ of the function func.\n",
        "\n",
        "(iv) Plot the data as red empty circles and fit curve as a black solid curve.\n",
        "\n"
      ]
    },
    {
      "cell_type": "code",
      "execution_count": null,
      "metadata": {
        "id": "KKSvgWbJok0W"
      },
      "outputs": [],
      "source": []
    },
    {
      "cell_type": "markdown",
      "source": [
        "Provide a brief comment on the effect of less noise on the fit results.\n",
        "\n",
        "Your comment:"
      ],
      "metadata": {
        "id": "36WBiRPK1Y0f"
      }
    },
    {
      "cell_type": "code",
      "execution_count": null,
      "metadata": {
        "id": "BGF0S64Nok0W"
      },
      "outputs": [],
      "source": []
    },
    {
      "cell_type": "markdown",
      "metadata": {
        "id": "g4n2vSH7ok0W"
      },
      "source": [
        "Question 4(c)\n",
        "Generate a code by using the following information.\n",
        "\n",
        "(i) Define a quadratic function using variables $a, b$ and $c$.\n",
        "\n",
        "(ii) Generate data ($x$ ranges from -10 to 10 with 101 points) with some noise (~10% of the maximum $y$ value).\n",
        "\n",
        "(iii) Fit for the parameters $a, b, c$ of the function func.\n",
        "\n",
        "(iv) Plot the data as blue circles and fit curve as a black curve.\n",
        "\n"
      ]
    },
    {
      "cell_type": "code",
      "execution_count": null,
      "metadata": {
        "id": "SNxEmtokok0X"
      },
      "outputs": [],
      "source": []
    }
  ],
  "metadata": {
    "kernelspec": {
      "display_name": "Python 3",
      "language": "python",
      "name": "python3"
    },
    "language_info": {
      "codemirror_mode": {
        "name": "ipython",
        "version": 3
      },
      "file_extension": ".py",
      "mimetype": "text/x-python",
      "name": "python",
      "nbconvert_exporter": "python",
      "pygments_lexer": "ipython3",
      "version": "3.8.5"
    },
    "colab": {
      "provenance": [],
      "include_colab_link": true
    }
  },
  "nbformat": 4,
  "nbformat_minor": 0
}