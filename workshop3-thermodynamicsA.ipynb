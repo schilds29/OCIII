{
  "nbformat": 4,
  "nbformat_minor": 0,
  "metadata": {
    "colab": {
      "provenance": [],
      "include_colab_link": true
    },
    "kernelspec": {
      "name": "python3",
      "display_name": "Python 3"
    },
    "language_info": {
      "name": "python"
    }
  },
  "cells": [
    {
      "cell_type": "markdown",
      "metadata": {
        "id": "view-in-github",
        "colab_type": "text"
      },
      "source": [
        "<a href=\"https://colab.research.google.com/github/schilds29/PhysChem3/blob/main/workshop3-thermodynamicsA.ipynb\" target=\"_parent\"><img src=\"https://colab.research.google.com/assets/colab-badge.svg\" alt=\"Open In Colab\"/></a>"
      ]
    },
    {
      "cell_type": "markdown",
      "source": [
        "# Workshop 3: Thermodynamics of Gas-Phase Acidity\n",
        "\n",
        "##Overview\n",
        "Quantum chemical calculations will be used to investigate the thermodynamics of gas-phase proton abstraction reactions to determine the relative gas-phase acidities of water and other chemical species.\n",
        "\n",
        "## Background\n",
        "Reactions of acids or bases play important roles in many areas, from biology to chemistry to geology. According to the Brønsted–Lowry definition, an acid is a proton donor and a base is a proton acceptor.<a name=\"cite_ref-1\"></a>[<sup>[1]</sup>](#cite_note-1) A key property of an acid is its strength, or propensity to donate a proton, which is characterised by the equilibrium constant 𝐾a of the acid ionisation reaction.\n",
        "\n",
        "HA ⇌ H$^{+}$ + A$^{-}$ &emsp; &emsp; $K_a = \\frac{[\\mathrm{H}^+][\\mathrm{A}^-]}{[\\mathrm{H}\\mathrm{A}]}$ (1)\n",
        "\n",
        "where HA is the acid and A$^-$ is its conjugate base. The higher the value of 𝐾a, the greater the propensity of the acid to give up a proton and thus the stronger the acid. The acid-ionisation equilibrium constant can be calculated from the standard Gibbs free energy change ∆𝐺° for the acid ionisation reaction using:\n",
        "\n",
        "$ΔG^\\circ = -RT\\ln K_a$ (2)\n",
        "\n",
        "The standard Gibbs free energy change ∆𝐺° of a chemical reaction is the Gibbs free energy change ∆𝐺 in the case in which each reactant and product is at 1 atm pressure (for a gas) or 1 M concentration (for a solution).\n",
        "\n",
        "Measuring the acid-ionisation equilibrium constant can be experimentally challenging, particularly for weak acids with small equilibrium constants. Fortunately, the free energy change, and thus the acid-ionisation equilibrium constant, can be accurately calculated in many cases using quantum chemistry. This practical will use a particular type of quantum chemistry called density functional theory, DFT (as implemented in Psi4<a name=\"cite_ref-2\"></a>[<sup>[2]</sup>](#cite_note-2)) and the atomic simulation environment<a name=\"cite_ref-3\"></a>[<sup>[3]</sup>](#cite_note-3) to calculate the thermodynamics of acid ionisation. DFT is a method that calculates the ground-state electron density and electronic energy for a specified nuclear geometry.<a name=\"cite_ref-4\"></a>[<sup>[4]</sup>](#cite_note-4) The calculations are for molecules in the gas phase (i.e. not solvated), which can serve as a good starting point for more sophisticated calculations of the thermodynamics of acid ionisation in solution. Furthermore, gas-phase acidity and basicity play a significant role in important chemical processes, e.g. determining the propensity to form molecular ions of particular mass/charge ratios in mass spectrometry.<a name=\"cite_ref-5\"></a>[<sup>[5]</sup>](#cite_note-5)\n",
        "\n",
        "By varying the nuclear geometry to minimise the electronic energy in a process called geometry optimisation, the equilibrium geometry of a molecule at absolute zero temperature (0 K) can be determined. To calculate the total energy, enthalpy, or Gibbs free energy at finite (non-zero) temperature, contributions from translational, rotational, and vibrational degrees of freedom and the effect of finite temperature must be included. By calculating the electronic energy for small displacements of the atoms from the equilibrium geometry, the oscillation frequencies of the vibrational degrees of freedom (normal modes) of the molecule can be estimated using the harmonic oscillator approximation in a process called vibrational frequency analysis, from which quantum vibrational energies can be calculated. Using the electronic energy, equilibrium geometry, and vibrational frequencies from these quantum-chemical calculations, along with the molecular weight, in equations derived from statistical mechanics, the thermodynamics at finite temperature can be calculated.\n",
        "\n",
        "## Goals and Objectives\n",
        "_Overall Goals_:\n",
        "1. Learn how quantum chemical calculations can be used to investigate the geometry, electronic structure, and\n",
        "thermochemistry of a simple molecular system.\n",
        "2. Understand the output of quantum chemical calculations.\n",
        "3. Use the theory of statistical mechanics to understand how the translational, vibrational, and electronic contributions to the average energy of an isolated molecule at a given temperature is calculated from molecular parameters and the single-molecule canonical partition function.\n",
        "4. Evaluate the importance of translational, rotational, and/or vibrational contributions and/or finite-temperature corrections to the thermodynamics of chemical reactions.\n",
        "5. Understand the relationship between energy, enthalpy, and Gibbs free energy.\n",
        "6. Discuss the gas-phase acidity of a molecular species in terms of its molecular structure.\n",
        "\n",
        "##Specific Objectives:\n",
        "1. Build and optimise molecules using quantum chemical calculations.\n",
        "2. Extract the energies, geometries and vibrational frequencies of conjugate acid–base pairs from quantum chemical calculations.\n",
        "2. Determine the standard Gibbs free energy change and equilibrium constant for acid ionisation in the gas phase for several acids.\n",
        "3. Compare the calculated gas-phase acidities of different acids and compare the calculated values with experimentally measured values.\n",
        "\n",
        "---\n",
        "<a name=\"cite_note-1\"></a>1. [^](#cite_ref-1)  A. Blackman, S.E. Bottle, S. Schmid, M. Mocerino, U. Wille, Chemistry (3e), Wiley, 2015.\n",
        "\n",
        "<a name=\"cite_note-2\"></a>2. [^](#cite_ref-2)  https://psicode.org\n",
        "\n",
        "<a name=\"cite_note-3\"></a>3. [^](#cite_ref-3)  https://wiki.fysik.dtu.dk/ase/\n",
        "\n",
        "<a name=\"cite_note-4\"></a>4. [^](#cite_ref-5)  D.S. Sholl, J.A. Steckel, Density Functional Theory: A Practical Introducton, Wiley-Interscience, 2009.\n",
        "\n",
        "<a name=\"cite_note-5\"></a>5. [^](#cite_ref-5)  A.G. Harrison, Mass Spectrometry Reviews 16, 201–217 (1997)"
      ],
      "metadata": {
        "id": "xKR_ohHhG3ir"
      }
    },
    {
      "cell_type": "markdown",
      "source": [
        "# A. Autoionisation of Water\n",
        "Combined geometry optimisation and vibrational frequency calculations will be performed for water and its conjugate base, the hydroxide ion, using DFT (at the _B3LYP/6-31+G(d)_ level of theory). Use the results of these calculations to calculate the change in energy, standard enthalpy, and standard Gibbs free energy for the gas- phase acid ionisation of water at 298.15 K (25$^\\circ$C)."
      ],
      "metadata": {
        "id": "jbfRH_Yr5ZiQ"
      }
    },
    {
      "cell_type": "markdown",
      "source": [
        "First we need to install the DFT codes (this will take a few minutes)"
      ],
      "metadata": {
        "id": "kDyU3_YJ7cBz"
      }
    },
    {
      "cell_type": "code",
      "source": [
        "!pip install -q condacolab"
      ],
      "metadata": {
        "id": "6GoP5nNMyqwD"
      },
      "execution_count": 1,
      "outputs": []
    },
    {
      "cell_type": "code",
      "source": [
        "import condacolab\n",
        "condacolab.install()"
      ],
      "metadata": {
        "id": "c_x8mzXIyuL4",
        "outputId": "cc2ed426-bc30-4020-a49f-f358fa20cb5b",
        "colab": {
          "base_uri": "https://localhost:8080/"
        }
      },
      "execution_count": 2,
      "outputs": [
        {
          "output_type": "stream",
          "name": "stdout",
          "text": [
            "✨🍰✨ Everything looks OK!\n"
          ]
        }
      ]
    },
    {
      "cell_type": "code",
      "source": [
        "import subprocess\n",
        "import sys\n",
        "subprocess.run(\"rm -rf /usr/local/conda-meta/pinned\", shell=True)\n",
        "subprocess.run(\"pip -q install py3Dmol\", shell=True)\n",
        "subprocess.run(\"!mamba install -c anaconda intel-openmp\", shell=True)\n",
        "subprocess.run(\"conda config --add channels http://conda.anaconda.org/psi4\", shell=True)\n",
        "subprocess.run(\"mamba install psi4 resp -c conda-forge/label/libint_dev -c conda-forge\", shell=True)\n",
        "subprocess.run(\"pip install rdkit-pypi\", shell=True)\n",
        "subprocess.run(\"pip install Cython\", shell=True)\n",
        "subprocess.run(\"mamba install -c conda-forge parmed -y\", shell=True)\n",
        "subprocess.run(\"mamba install -c conda-forge openbabel -y\", shell=True)\n",
        "subprocess.run(\"pip install ase\", shell=True)"
      ],
      "metadata": {
        "id": "jqez19FQyu3r",
        "outputId": "40ae28a6-a3d0-4d48-e14d-1464200780dc",
        "colab": {
          "base_uri": "https://localhost:8080/"
        }
      },
      "execution_count": 1,
      "outputs": [
        {
          "output_type": "execute_result",
          "data": {
            "text/plain": [
              "CompletedProcess(args='pip install ase', returncode=0)"
            ]
          },
          "metadata": {},
          "execution_count": 1
        }
      ]
    },
    {
      "cell_type": "markdown",
      "source": [
        "The _ase_ (atomic simulation environment) library has routines for describing molecules and interfaces with DFT software. For example, we can either describe a molecule using a string ('H2O') or by explicitly listing the position of atoms."
      ],
      "metadata": {
        "id": "576ZNd9L58-Z"
      }
    },
    {
      "cell_type": "code",
      "source": [
        "from ase.build import molecule\n",
        "from ase import Atoms\n",
        "\n",
        "water = molecule('H2O')\n",
        "\n",
        "d=0.97\n",
        "ohminus = Atoms('OH', positions=([0-d/2,0,0],[0+d/2,0,0]), charges=[-1,0])\n",
        "\n",
        "hplus = molecule('H')\n",
        "hplus.set_initial_charges([+1])\n",
        "\n",
        "molecules = [water, ohminus]"
      ],
      "metadata": {
        "id": "EV6bahWx2C5u"
      },
      "execution_count": 3,
      "outputs": []
    },
    {
      "cell_type": "markdown",
      "source": [
        "We can use the py3Dmol package to view our molecules"
      ],
      "metadata": {
        "id": "IeQgkQKTs5uo"
      }
    },
    {
      "cell_type": "code",
      "source": [
        "from ase.io import write\n",
        "import py3Dmol\n",
        "\n",
        "write(filename='water.xyz', images=water)\n",
        "view = py3Dmol.view(width=800, height=600)\n",
        "view.addModel(open('water.xyz','r').read(),'xyz')\n",
        "view.addStyle({'stick':{'colorscheme':'greenCarbon','radius':0.3}})\n",
        "view.setViewStyle({'style':'outline','color':'black','width':0.1})\n",
        "view.zoomTo()\n",
        "view.show()\n"
      ],
      "metadata": {
        "id": "J5Ojip-EsIiY",
        "outputId": "574d5244-d15e-4829-9702-ad9685ed45f2",
        "colab": {
          "base_uri": "https://localhost:8080/",
          "height": 617
        }
      },
      "execution_count": 4,
      "outputs": [
        {
          "output_type": "display_data",
          "data": {
            "application/3dmoljs_load.v0": "<div id=\"3dmolviewer_17465896967540417\"  style=\"position: relative; width: 800px; height: 600px;\">\n        <p id=\"3dmolwarning_17465896967540417\" style=\"background-color:#ffcccc;color:black\">3Dmol.js failed to load for some reason.  Please check your browser console for error messages.<br></p>\n        </div>\n<script>\n\nvar loadScriptAsync = function(uri){\n  return new Promise((resolve, reject) => {\n    //this is to ignore the existence of requirejs amd\n    var savedexports, savedmodule;\n    if (typeof exports !== 'undefined') savedexports = exports;\n    else exports = {}\n    if (typeof module !== 'undefined') savedmodule = module;\n    else module = {}\n\n    var tag = document.createElement('script');\n    tag.src = uri;\n    tag.async = true;\n    tag.onload = () => {\n        exports = savedexports;\n        module = savedmodule;\n        resolve();\n    };\n  var firstScriptTag = document.getElementsByTagName('script')[0];\n  firstScriptTag.parentNode.insertBefore(tag, firstScriptTag);\n});\n};\n\nif(typeof $3Dmolpromise === 'undefined') {\n$3Dmolpromise = null;\n  $3Dmolpromise = loadScriptAsync('https://cdnjs.cloudflare.com/ajax/libs/3Dmol/2.4.2/3Dmol-min.js');\n}\n\nvar viewer_17465896967540417 = null;\nvar warn = document.getElementById(\"3dmolwarning_17465896967540417\");\nif(warn) {\n    warn.parentNode.removeChild(warn);\n}\n$3Dmolpromise.then(function() {\nviewer_17465896967540417 = $3Dmol.createViewer(document.getElementById(\"3dmolviewer_17465896967540417\"),{backgroundColor:\"white\"});\nviewer_17465896967540417.zoomTo();\n\tviewer_17465896967540417.addModel(\"3\\nProperties=species:S:1:pos:R:3 pbc=\\\"F F F\\\"\\nO        0.00000000       0.00000000       0.11926200\\nH        0.00000000       0.76323900      -0.47704700\\nH        0.00000000      -0.76323900      -0.47704700\\n\",\"xyz\");\n\tviewer_17465896967540417.addStyle({\"stick\": {\"colorscheme\": \"greenCarbon\", \"radius\": 0.3}});\n\tviewer_17465896967540417.setViewStyle({\"style\": \"outline\", \"color\": \"black\", \"width\": 0.1});\n\tviewer_17465896967540417.zoomTo();\nviewer_17465896967540417.render();\n});\n</script>",
            "text/html": [
              "<div id=\"3dmolviewer_17465896967540417\"  style=\"position: relative; width: 800px; height: 600px;\">\n",
              "        <p id=\"3dmolwarning_17465896967540417\" style=\"background-color:#ffcccc;color:black\">3Dmol.js failed to load for some reason.  Please check your browser console for error messages.<br></p>\n",
              "        </div>\n",
              "<script>\n",
              "\n",
              "var loadScriptAsync = function(uri){\n",
              "  return new Promise((resolve, reject) => {\n",
              "    //this is to ignore the existence of requirejs amd\n",
              "    var savedexports, savedmodule;\n",
              "    if (typeof exports !== 'undefined') savedexports = exports;\n",
              "    else exports = {}\n",
              "    if (typeof module !== 'undefined') savedmodule = module;\n",
              "    else module = {}\n",
              "\n",
              "    var tag = document.createElement('script');\n",
              "    tag.src = uri;\n",
              "    tag.async = true;\n",
              "    tag.onload = () => {\n",
              "        exports = savedexports;\n",
              "        module = savedmodule;\n",
              "        resolve();\n",
              "    };\n",
              "  var firstScriptTag = document.getElementsByTagName('script')[0];\n",
              "  firstScriptTag.parentNode.insertBefore(tag, firstScriptTag);\n",
              "});\n",
              "};\n",
              "\n",
              "if(typeof $3Dmolpromise === 'undefined') {\n",
              "$3Dmolpromise = null;\n",
              "  $3Dmolpromise = loadScriptAsync('https://cdnjs.cloudflare.com/ajax/libs/3Dmol/2.4.2/3Dmol-min.js');\n",
              "}\n",
              "\n",
              "var viewer_17465896967540417 = null;\n",
              "var warn = document.getElementById(\"3dmolwarning_17465896967540417\");\n",
              "if(warn) {\n",
              "    warn.parentNode.removeChild(warn);\n",
              "}\n",
              "$3Dmolpromise.then(function() {\n",
              "viewer_17465896967540417 = $3Dmol.createViewer(document.getElementById(\"3dmolviewer_17465896967540417\"),{backgroundColor:\"white\"});\n",
              "viewer_17465896967540417.zoomTo();\n",
              "\tviewer_17465896967540417.addModel(\"3\\nProperties=species:S:1:pos:R:3 pbc=\\\"F F F\\\"\\nO        0.00000000       0.00000000       0.11926200\\nH        0.00000000       0.76323900      -0.47704700\\nH        0.00000000      -0.76323900      -0.47704700\\n\",\"xyz\");\n",
              "\tviewer_17465896967540417.addStyle({\"stick\": {\"colorscheme\": \"greenCarbon\", \"radius\": 0.3}});\n",
              "\tviewer_17465896967540417.setViewStyle({\"style\": \"outline\", \"color\": \"black\", \"width\": 0.1});\n",
              "\tviewer_17465896967540417.zoomTo();\n",
              "viewer_17465896967540417.render();\n",
              "});\n",
              "</script>"
            ]
          },
          "metadata": {}
        }
      ]
    },
    {
      "cell_type": "code",
      "source": [
        "#initalise dictionaries to save the results below\n",
        "h_results = {}\n",
        "oh_results = {}\n",
        "h2o_results = {}"
      ],
      "metadata": {
        "id": "4qtna34MVF6m"
      },
      "execution_count": 5,
      "outputs": []
    },
    {
      "cell_type": "markdown",
      "source": [
        "Computing the energy for H$^{+}$ is doesn't require any geometry optimisation (it's only one atom).\n",
        "\n",
        "The calculation parameters are loaded with the Psi4 object. Check out https://wiki.fysik.dtu.dk/ase/ase/calculators/psi4.html for the full list of options. **There is an error in the parameters below!**"
      ],
      "metadata": {
        "id": "zevQETYJ8V3L"
      }
    },
    {
      "cell_type": "code",
      "source": [
        "from ase.calculators.psi4 import Psi4\n",
        "calc = Psi4(atoms = hplus,\n",
        "            method = 'b3lyp',\n",
        "            memory = '500MB', # this is the default, be aware!\n",
        "            basis = '6-31+G(d)',\n",
        "            charge = +1,\n",
        "            multiplicity = 1,\n",
        "            label = hplus.get_chemical_formula())\n",
        "\n",
        "hplus.calc = calc\n",
        "print(hplus.get_potential_energy())\n",
        "h_results['energy'] = hplus.get_potential_energy()"
      ],
      "metadata": {
        "id": "Dk1bJt6fDJ7s",
        "outputId": "83eb5369-9425-4870-acb7-98b9e48ab1fc",
        "colab": {
          "base_uri": "https://localhost:8080/"
        }
      },
      "execution_count": 14,
      "outputs": [
        {
          "output_type": "stream",
          "name": "stderr",
          "text": [
            "/usr/local/lib/python3.11/site-packages/ase/calculators/psi4.py:127: UserWarning: A charge was provided without a spin multiplicity. A multiplicity of 1 is assumed\n",
            "  warnings.warn('A charge was provided without a spin '\n"
          ]
        },
        {
          "output_type": "stream",
          "name": "stdout",
          "text": [
            "0.0\n"
          ]
        }
      ]
    },
    {
      "cell_type": "markdown",
      "source": [
        "__What is the energy for H$^+$ and in which units?__\n",
        "\n",
        " Answer: 0.0 eV"
      ],
      "metadata": {
        "id": "8QOBYjqk-YSc"
      }
    },
    {
      "cell_type": "markdown",
      "source": [
        "For molecules we need to first optimise the atom positions to find the lowest energy positons. The calculation optimises the molecular structure through a series of geometry optimisation steps."
      ],
      "metadata": {
        "id": "29Z2rBZ49vLr"
      }
    },
    {
      "cell_type": "code",
      "source": [
        "from ase.calculators.psi4 import Psi4\n",
        "from ase.build import molecule\n",
        "import numpy as np\n",
        "from ase.optimize import QuasiNewton\n",
        "\n",
        "optimised_molecules = []\n",
        "for atoms in molecules:\n",
        "  print(atoms.get_chemical_formula())\n",
        "  calc = Psi4(atoms = atoms,\n",
        "        method = 'b3lyp',\n",
        "        memory = '500MB', # this is the default, be aware!\n",
        "        basis = '6-31+G(d)',\n",
        "\n",
        "        charge = np.sum(atoms.get_initial_charges()),\n",
        "        multiplicity=1,\n",
        "        label = atoms.get_chemical_formula())\n",
        "\n",
        "  atoms.calc = calc\n",
        "\n",
        "  QuasiNewton(atoms).run(fmax=0.0005)\n",
        "\n",
        "  #save results\n",
        "  if atoms.get_chemical_formula() == 'HO':\n",
        "      oh_results['energy'] = atoms.get_potential_energy()\n",
        "  if atoms.get_chemical_formula() == 'H2O':\n",
        "      h2o_results['energy'] = atoms.get_potential_energy()\n",
        "  print(atoms.get_potential_energy())\n",
        "  optimised_molecules.append(atoms)"
      ],
      "metadata": {
        "id": "Pf25cQL23Qmj",
        "outputId": "ab6c248e-3529-4b70-a8e8-c6fe561e1d93",
        "colab": {
          "base_uri": "https://localhost:8080/"
        }
      },
      "execution_count": 15,
      "outputs": [
        {
          "output_type": "stream",
          "name": "stdout",
          "text": [
            "H2O\n",
            "                Step[ FC]     Time          Energy          fmax\n",
            "BFGSLineSearch:    0[  0] 04:06:30    -2079.562595       0.1365\n",
            "BFGSLineSearch:    1[  2] 04:06:39    -2079.564058       0.0820\n",
            "BFGSLineSearch:    2[  4] 04:06:48    -2079.564177       0.0003\n",
            "-2079.564177172377\n",
            "HO\n",
            "                Step[ FC]     Time          Energy          fmax\n",
            "BFGSLineSearch:    0[  0] 04:06:50    -2062.532144       0.2308\n",
            "BFGSLineSearch:    1[  2] 04:06:56    -2062.532703       0.0012\n",
            "BFGSLineSearch:    2[  3] 04:07:02    -2062.532703       0.0000\n",
            "-2062.532702910909\n"
          ]
        }
      ]
    },
    {
      "cell_type": "markdown",
      "source": [
        " __What is the convergence criteria used here (Don't forget the units)?__\n",
        "\n",
        " Answer:\n",
        "\n",
        "  __What optimiser is used here and what alternatives are there?__\n",
        "\n",
        " Answer:"
      ],
      "metadata": {
        "id": "25g2leaA_Q0w"
      }
    },
    {
      "cell_type": "markdown",
      "source": [
        "The output displayed is only a snapshot of important quantities. The files _H.dat_, _HO.dat_ and _H20.dat_ have the raw output from the _Psi4_ sofware. Check the files tab on the left side of the browser.\n",
        "\n",
        "__Open the *H2O.dat* file and search the detailed ouput. Which point group symmetry is used here?__\n",
        "\n",
        "Answer:"
      ],
      "metadata": {
        "id": "5utaRnVAAhLB"
      }
    },
    {
      "cell_type": "markdown",
      "source": [
        "Using the harmonic oscilator approximation the vibrational degrees of freedom (normal modes) of these molecules can be computed."
      ],
      "metadata": {
        "id": "V-gB-tVUG10D"
      }
    },
    {
      "cell_type": "code",
      "source": [
        "from ase.vibrations import Vibrations\n",
        "#save the results in a list for later processing\n",
        "vibs = []\n",
        "for atoms in optimised_molecules:\n",
        "  print(atoms.get_chemical_formula())\n",
        "  vib = Vibrations(atoms, name=atoms.get_chemical_formula(), delta=0.01)\n",
        "  vib.clean()\n",
        "  vib.run()\n",
        "  vib.write_mode(0)\n",
        "  vib.write_mode(-1)\n",
        "  vib.summary()\n",
        "  vibs.append(vib)\n"
      ],
      "metadata": {
        "id": "a3ZDwsR85ipz"
      },
      "execution_count": null,
      "outputs": []
    },
    {
      "cell_type": "markdown",
      "source": [
        "The modes as displayed include translational and rotational movements that leads low energy negative frequences, these can be ignored."
      ],
      "metadata": {
        "id": "wB4Ucs3eH2Dh"
      }
    },
    {
      "cell_type": "markdown",
      "source": [
        "The trajectory of the 0th mode was saved (_H2O.0.traj_) download this to your local computer. You can view this using the _view_ routine in _ase__ as demonstrated in **['workshop3-view.ipynb'](https://colab.research.google.com/github/jackevansadl/CHEM3630/blob/main/workshop3-view.ipynb)**."
      ],
      "metadata": {
        "id": "zs7lVPKjIufi"
      }
    },
    {
      "cell_type": "markdown",
      "source": [
        "__What do the 8th vibrational mode of H2O and the 5th mode of HO relate to?__.\n",
        "_You may need to reload the output of the **['workshop3-view.ipynb'](https://colab.research.google.com/github/jackevansadl/CHEM3630/blob/main/workshop3-view.ipynb)** notebook_"
      ],
      "metadata": {
        "id": "ApbzV6ayJg1G"
      }
    },
    {
      "cell_type": "markdown",
      "source": [
        "_Answer:_"
      ],
      "metadata": {
        "id": "Gy9H6kWQTbPd"
      }
    },
    {
      "cell_type": "markdown",
      "source": [
        "The _thermochemistry_ routines of ASE can be used to compute several thermodynamic quantites from the normal modes using the ideal gas approximation. An example for H2O is shown below:"
      ],
      "metadata": {
        "id": "8yTeqsMBZD9X"
      }
    },
    {
      "cell_type": "code",
      "source": [
        "from ase.thermochemistry import IdealGasThermo\n",
        "# the 0th entry is h2o\n",
        "atoms = optimised_molecules[0]\n",
        "potentialenergy = atoms.get_potential_energy()\n",
        "vib = vibs[0]\n",
        "vib_energies = vib.get_energies()\n",
        "\n",
        "\n",
        "thermo = IdealGasThermo(vib_energies=vib_energies,\n",
        "                        potentialenergy=potentialenergy,\n",
        "                        atoms=atoms,\n",
        "                        geometry='linear',\n",
        "                        symmetrynumber=2, spin=0)\n",
        "G = thermo.get_gibbs_energy(temperature=298.15, pressure=101325.)\n",
        "H = thermo.get_enthalpy(temperature=298.15, verbose=False)\n",
        "S = thermo.get_entropy(temperature=298.15, pressure=101325., verbose=False)\n",
        "h2o_results['gibbs_energy'] = G\n",
        "h2o_results['enthalpy'] = H\n",
        "h2o_results['entropy'] = S"
      ],
      "metadata": {
        "id": "7hs7P75iZ_ZR"
      },
      "execution_count": null,
      "outputs": []
    },
    {
      "cell_type": "markdown",
      "source": [
        "__Confirm that the average translation energy (described here as translational heat capacity Cv) is described by Eq. 9 (Appendix):__\n",
        "\n",
        "$<ɛ_T> = -\\frac{1}{q_T}(\\frac{∂q_T}{∂β})_{N,V} \\approx \\frac{3}{2}k_BT$"
      ],
      "metadata": {
        "id": "JTSESP5ydFz0"
      }
    },
    {
      "cell_type": "code",
      "source": [
        "#answer goes here"
      ],
      "metadata": {
        "id": "Y73-eWnad9uh"
      },
      "execution_count": null,
      "outputs": []
    },
    {
      "cell_type": "markdown",
      "source": [
        "__Compute the same thermodynamic quanties (gibbs energy, enthalpy and entropy) for OH$^-$ and H$^+$.__"
      ],
      "metadata": {
        "id": "-nIlpARuegcV"
      }
    },
    {
      "cell_type": "code",
      "source": [
        "#answer for OH-"
      ],
      "metadata": {
        "id": "C9JxUCgHlVk8"
      },
      "execution_count": null,
      "outputs": []
    },
    {
      "cell_type": "code",
      "source": [
        "#answer for H+ (Hint!: consider the 'geometry' parameter and set vib.energies to an empty list [])"
      ],
      "metadata": {
        "id": "Y33niaF5lV6A"
      },
      "execution_count": null,
      "outputs": []
    },
    {
      "cell_type": "markdown",
      "source": [
        "At this point you should have three dictionaries _h\\_results_, _oh\\_results_ and _h2o\\_results_ that includes the electronic energy, enthalpy and entropy of these species.\n",
        "\n",
        "__Calculate the change in electronic energy $\\Delta$E, the change in enthalpy $\\Delta$H, the entropy contribution T$\\Delta$S, and the Gibbs free energy change $\\Delta$G for the reaction (Eqns 23-27):__\n",
        "\n",
        "H$_2$O $⟶$ OH$^{-}$ + H$^+$\n"
      ],
      "metadata": {
        "id": "ueRvKoMIlv4_"
      }
    },
    {
      "cell_type": "code",
      "source": [
        "#answer for deltaE"
      ],
      "metadata": {
        "id": "NCKn1xWKrK5G"
      },
      "execution_count": null,
      "outputs": []
    },
    {
      "cell_type": "code",
      "source": [
        "#answer for deltaH"
      ],
      "metadata": {
        "id": "cpwmslY7rN5v"
      },
      "execution_count": null,
      "outputs": []
    },
    {
      "cell_type": "code",
      "source": [
        "#answer for deltaS"
      ],
      "metadata": {
        "id": "olksduGqrXrD"
      },
      "execution_count": null,
      "outputs": []
    },
    {
      "cell_type": "code",
      "source": [
        "#answer for deltaG"
      ],
      "metadata": {
        "id": "0nH17Zl8rbBW"
      },
      "execution_count": null,
      "outputs": []
    },
    {
      "cell_type": "markdown",
      "source": [
        "__Calculate K$_a$ and pK$_a$ at 298.15 K for the acid-ionisation reaction H2O ⇌ H$^+$ + OH$^-$ (Eqns 1 and 2 of this preamble). Discuss how this compares with the experimentally determined value and why it might differ.__"
      ],
      "metadata": {
        "id": "-oWVqA24roI8"
      }
    },
    {
      "cell_type": "code",
      "source": [
        "#answer for Ka"
      ],
      "metadata": {
        "id": "hcWFWNMqr_hF"
      },
      "execution_count": null,
      "outputs": []
    },
    {
      "cell_type": "code",
      "source": [
        "#answer for pKa"
      ],
      "metadata": {
        "id": "8heeYFTKsCDD"
      },
      "execution_count": null,
      "outputs": []
    },
    {
      "cell_type": "markdown",
      "source": [
        "_Your discussion_"
      ],
      "metadata": {
        "id": "CsNQo7CUsFus"
      }
    }
  ]
}